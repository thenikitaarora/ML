{
 "cells": [
  {
   "cell_type": "code",
   "execution_count": null,
   "id": "54783ac6",
   "metadata": {},
   "outputs": [],
   "source": [
    "import pandas as pd #imporing pandas module in the computer"
   ]
  },
  {
   "cell_type": "code",
   "execution_count": null,
   "id": "db8842ab",
   "metadata": {},
   "outputs": [],
   "source": [
    "import matplotlib.pyplot as plt #matplotlib is a package and pyplot is a collection of functions \n",
    "#pyplot is classes -- within matplotlib library\n",
    "# and gonna use uske functions"
   ]
  },
  {
   "cell_type": "code",
   "execution_count": null,
   "id": "d4b6b3af",
   "metadata": {},
   "outputs": [],
   "source": [
    "import pickle"
   ]
  },
  {
   "cell_type": "code",
   "execution_count": null,
   "id": "314784b2",
   "metadata": {},
   "outputs": [],
   "source": [
    "\n",
    "\n",
    "# import sys\n",
    "# # !{sys.executable} -m pip install pandas-profiling\n"
   ]
  },
  {
   "cell_type": "code",
   "execution_count": null,
   "id": "87f17bb7",
   "metadata": {},
   "outputs": [],
   "source": [
    "from pandas_profiling import ProfileReport #pands_profiling is a module importing\n",
    "#ProfileReport function"
   ]
  },
  {
   "cell_type": "code",
   "execution_count": null,
   "id": "3999ee73",
   "metadata": {},
   "outputs": [],
   "source": [
    "import numpy as np"
   ]
  },
  {
   "cell_type": "code",
   "execution_count": null,
   "id": "81a1b3bd",
   "metadata": {},
   "outputs": [],
   "source": [
    "df=pd.read_csv(\"https://raw.githubusercontent.com/justmarkham/scikit-learn-videos/master/data/Advertising.csv\")\n",
    "#click raw and copy the path"
   ]
  },
  {
   "cell_type": "code",
   "execution_count": null,
   "id": "e95d113a",
   "metadata": {},
   "outputs": [],
   "source": [
    "df"
   ]
  },
  {
   "cell_type": "code",
   "execution_count": null,
   "id": "b77b7b5c",
   "metadata": {},
   "outputs": [],
   "source": [
    "df.drop(columns=[\"Unnamed: 0\"],inplace=True) #drop is a function that we use\n",
    "# columns we provide in a list - becoz we might have to drop more than two columns\n",
    "# list is prvided in square bracket\n",
    "#inplace = true means to updte the dataframe "
   ]
  },
  {
   "cell_type": "code",
   "execution_count": null,
   "id": "cef0f357",
   "metadata": {},
   "outputs": [],
   "source": [
    "df"
   ]
  },
  {
   "cell_type": "code",
   "execution_count": null,
   "id": "b07a088e",
   "metadata": {},
   "outputs": [],
   "source": [
    "df.head() #first 5 dataset"
   ]
  },
  {
   "cell_type": "code",
   "execution_count": null,
   "id": "26312f76",
   "metadata": {},
   "outputs": [],
   "source": [
    "df.tail() #last 5 dataset"
   ]
  },
  {
   "cell_type": "code",
   "execution_count": null,
   "id": "7be19e37",
   "metadata": {},
   "outputs": [],
   "source": [
    "#if i spend something on TV,Radio and newspaper - then what is the number of sale\n",
    "# I'll be able to generate\n",
    "#Prblm Statement : build a model that tries to predict sales when \n",
    "#tV,radio , newspaper expense is given\n",
    "\n",
    "#which mode of advertisement is effectivee- sales\n",
    "#whether this data shwing multicllinearity\n",
    "#statistic or \n"
   ]
  },
  {
   "cell_type": "code",
   "execution_count": null,
   "id": "3a67b95f",
   "metadata": {},
   "outputs": [],
   "source": [
    "df.describe()\n",
    "#in every column we have 200 records so that means theres no null value\n",
    "#avg Tv ad expense is 147 $, radio expense is 23$ and Newspaper expense is 30$\n",
    "# and minimn expense that u spent n Tv is 0.70, raadio is 0\n",
    "#at any pint in time - we are spending more on Tv as compared to Radio or Newspaper\n"
   ]
  },
  {
   "cell_type": "code",
   "execution_count": null,
   "id": "aa898ddc",
   "metadata": {},
   "outputs": [],
   "source": [
    "ProfileReport(df) #profile report jisme report banegi - usme you are passing df\n",
    "# ie dataframe "
   ]
  },
  {
   "cell_type": "code",
   "execution_count": null,
   "id": "182f3707",
   "metadata": {},
   "outputs": [],
   "source": [
    "pf= ProfileReport(df) #saving this report in pf"
   ]
  },
  {
   "cell_type": "code",
   "execution_count": null,
   "id": "c563d7df",
   "metadata": {},
   "outputs": [],
   "source": [
    "pf.to_widgets()#this would give the profile in a widget formt which is more \n",
    "#interactive"
   ]
  },
  {
   "cell_type": "code",
   "execution_count": null,
   "id": "e3339dcd",
   "metadata": {},
   "outputs": [],
   "source": [
    "#how t check multicolinearity \n",
    "#if there is correlation between feature variable itself ie. called multicolinearity\n",
    "# that is called multiclinearity\n",
    "# x1,x2,x3 = feature column and y = label column\n",
    "# one dataset is reprent of another dataset ie.\n",
    "#x2 = 2 x1\n",
    "#traing my model ke time pe it will start learning between the dataset itself \n",
    "# it will start adjusting the relationship between dataset itself\n",
    "# which is wrng and we are suppoed to learn elationship between feature and label\n",
    "# it will provide biases in coeffiecient parameters \n",
    "# there is no need to include two columns which provide th saame result\n",
    "\n",
    "#Tv and radio/newspaper is not multicolinear\n",
    "# -- complete random scatter graph\n",
    "\n",
    "#do nt have multicolinarity in dataset -- checked \n",
    "\n",
    "#sales of ice cream in winter -- pearson r is -1 - negative correlate\n",
    "#sales of umbrella in rainy season -- pearsons r is +1 - positive correlation\n",
    "#sales f tv vs season -- not related \n",
    "#theres no missing values -- so we dont have to any imputation\n",
    "\n"
   ]
  },
  {
   "cell_type": "code",
   "execution_count": null,
   "id": "2cad836f",
   "metadata": {},
   "outputs": [],
   "source": [
    "# pf is a pandas_profiling variable that is created\n",
    "# to_widget comes under pandas_profiling library \n",
    "#u give the name test and make it into a file in html format\n",
    "#creates dashboard ban gya"
   ]
  },
  {
   "cell_type": "code",
   "execution_count": null,
   "id": "997b28f9",
   "metadata": {},
   "outputs": [],
   "source": [
    "pf.to_file(\"test.html\") #saving this file for future purposes"
   ]
  },
  {
   "cell_type": "code",
   "execution_count": null,
   "id": "ee184587",
   "metadata": {},
   "outputs": [],
   "source": [
    "#build a model between  Tv and Sales\n",
    "#feature vs label variable"
   ]
  },
  {
   "cell_type": "code",
   "execution_count": null,
   "id": "495a01af",
   "metadata": {},
   "outputs": [],
   "source": [
    "df"
   ]
  },
  {
   "cell_type": "code",
   "execution_count": null,
   "id": "1261732e",
   "metadata": {},
   "outputs": [],
   "source": [
    "x = df[\"TV\"]\n",
    "x"
   ]
  },
  {
   "cell_type": "code",
   "execution_count": null,
   "id": "cca34f2c",
   "metadata": {},
   "outputs": [],
   "source": [
    "y = df.Sales\n",
    "y"
   ]
  },
  {
   "cell_type": "code",
   "execution_count": null,
   "id": "0c71a7b3",
   "metadata": {},
   "outputs": [],
   "source": []
  },
  {
   "cell_type": "code",
   "execution_count": null,
   "id": "550cc11e",
   "metadata": {},
   "outputs": [],
   "source": [
    "#Tv expenses varies with the sales data\n",
    "#build a model -- find value of coefficient parameters ie. m and c \n",
    "# and update the values of m and c continuosly\n",
    "#sales = mTv +c  -- y = mx +c\n",
    "#there are 200 data pints it is not possible to calculate m and c and find contn\n",
    "#continuosly for m and c so that it converges at a minima point"
   ]
  },
  {
   "cell_type": "code",
   "execution_count": null,
   "id": "6d7de71c",
   "metadata": {},
   "outputs": [],
   "source": [
    "#sklearn is a library jiske andar we have different models \n",
    "\n",
    "\n",
    "from sklearn.linear_model import LinearRegression"
   ]
  },
  {
   "cell_type": "code",
   "execution_count": null,
   "id": "43aa6d73",
   "metadata": {},
   "outputs": [],
   "source": [
    "import sklearn"
   ]
  },
  {
   "cell_type": "code",
   "execution_count": null,
   "id": "e14f0122",
   "metadata": {},
   "outputs": [],
   "source": [
    "# LinearRegression class hai\n",
    "#and linear is the object of that class \n",
    "linear =LinearRegression() # this is the object that we created of LinearRegression class\n",
    "#class ke andar wale functions ko method bolte hai and you call those methods/functio\n",
    "#inside a fit method, cmplete steps of training is written"
   ]
  },
  {
   "cell_type": "code",
   "execution_count": null,
   "id": "aaa5f099",
   "metadata": {},
   "outputs": [],
   "source": [
    "#fit is just a method that we can create \n",
    "\n",
    "linear.fit(x,y)"
   ]
  },
  {
   "cell_type": "code",
   "execution_count": null,
   "id": "ae98b135",
   "metadata": {},
   "outputs": [],
   "source": [
    "X=df[\"TV\"]\n",
    "X\n",
    "# df[\"TV\"] is a series - dataframe ko series mein bolte hai \n",
    "#but linear.fit jo hain use 2d mein chiz chahiye ie. dataframe\n",
    "#hence double bracket is needed\n",
    "df[[\"TV\",\"Sales\"]]"
   ]
  },
  {
   "cell_type": "code",
   "execution_count": null,
   "id": "96f05631",
   "metadata": {},
   "outputs": [],
   "source": [
    "df.TV"
   ]
  },
  {
   "cell_type": "code",
   "execution_count": null,
   "id": "9bde9d7c",
   "metadata": {},
   "outputs": [],
   "source": [
    "type(df[\"TV\"])"
   ]
  },
  {
   "cell_type": "code",
   "execution_count": null,
   "id": "c8aac3ba",
   "metadata": {},
   "outputs": [],
   "source": [
    "x= df[[\"TV\"]]"
   ]
  },
  {
   "cell_type": "code",
   "execution_count": null,
   "id": "6315a8d6",
   "metadata": {},
   "outputs": [],
   "source": [
    "y = df[[\"Sales\"]]"
   ]
  },
  {
   "cell_type": "code",
   "execution_count": null,
   "id": "52aa28b4",
   "metadata": {},
   "outputs": [],
   "source": [
    "#able t find value of m and c in fit \n",
    "# calculateeed value of m and c and changed the value f m and c by calci \n",
    "#de/dm and de/dc nd usme se changed value of m and c we found\n",
    "#ives ptimal value f m and c\n",
    "linear.fit(x,y)\n"
   ]
  },
  {
   "cell_type": "code",
   "execution_count": null,
   "id": "6b561863",
   "metadata": {},
   "outputs": [],
   "source": [
    "x= df[[\"TV\"]]"
   ]
  },
  {
   "cell_type": "code",
   "execution_count": null,
   "id": "972f2d99",
   "metadata": {},
   "outputs": [],
   "source": [
    "linear.fit(x,y)"
   ]
  },
  {
   "cell_type": "code",
   "execution_count": null,
   "id": "579c5341",
   "metadata": {},
   "outputs": [],
   "source": [
    "y = df.Sales\n",
    "y"
   ]
  },
  {
   "cell_type": "code",
   "execution_count": null,
   "id": "050a2c9d",
   "metadata": {},
   "outputs": [],
   "source": [
    "linear.intercept_ #intercept is c "
   ]
  },
  {
   "cell_type": "code",
   "execution_count": null,
   "id": "ac46958f",
   "metadata": {},
   "outputs": [],
   "source": [
    "linear.coef_ # slope =m"
   ]
  },
  {
   "cell_type": "code",
   "execution_count": null,
   "id": "8527f0a9",
   "metadata": {},
   "outputs": [],
   "source": [
    "#sales = m TV +c \n",
    "#sales = 0.0475 TV + 7.03\n"
   ]
  },
  {
   "cell_type": "code",
   "execution_count": null,
   "id": "c59b7589",
   "metadata": {},
   "outputs": [],
   "source": [
    "df[\"TV\",\"Sales\"] #this shows key error why??\n",
    "# as there is nothing like 2-d series-- you need to use double brackets for \n",
    "# [[]] -- putting in a dataframe"
   ]
  },
  {
   "cell_type": "code",
   "execution_count": null,
   "id": "41ab1e59",
   "metadata": {},
   "outputs": [],
   "source": [
    "df"
   ]
  },
  {
   "cell_type": "code",
   "execution_count": null,
   "id": "36753dc6",
   "metadata": {},
   "outputs": [],
   "source": [
    "df.Sales"
   ]
  },
  {
   "cell_type": "code",
   "execution_count": null,
   "id": "989baa9d",
   "metadata": {},
   "outputs": [],
   "source": [
    "linear=LinearRegression()"
   ]
  },
  {
   "cell_type": "code",
   "execution_count": null,
   "id": "bda89c98",
   "metadata": {},
   "outputs": [],
   "source": [
    "linear.fit(x,y)\n",
    "#linear is the object we have trained with respect to x and y dataset\n",
    "#this has m and c -- is object ke andar ye do values hai as it was saved\n",
    "#and now i want to save this object inside a physical file -- share this file and pass data amd get result\n",
    "#y=mx+c save hoga\n",
    "#equation is changing -- x1,x2,and s on -- m1,m2,m3 --- the file size will also increase of\n",
    "#file =linear_reg.sav -- is file ka size will increase -- this is a physical file"
   ]
  },
  {
   "cell_type": "code",
   "execution_count": null,
   "id": "f7924884",
   "metadata": {},
   "outputs": [],
   "source": [
    "linear.intercept_"
   ]
  },
  {
   "cell_type": "code",
   "execution_count": null,
   "id": "4885efa7",
   "metadata": {},
   "outputs": [],
   "source": [
    "linear.coef_"
   ]
  },
  {
   "cell_type": "code",
   "execution_count": null,
   "id": "7f5fd029",
   "metadata": {},
   "outputs": [],
   "source": [
    "file = \"linear_reg.sav\" #just ek koi file banayi hai -- koibhinaam.sav\n",
    "#you can even write file = \"chinu.sav\" -- chinu is just a random name and you save that in sav format"
   ]
  },
  {
   "cell_type": "code",
   "execution_count": null,
   "id": "64b8a3dc",
   "metadata": {},
   "outputs": [],
   "source": [
    "file"
   ]
  },
  {
   "cell_type": "code",
   "execution_count": null,
   "id": "bae5c72d",
   "metadata": {},
   "outputs": [],
   "source": [
    "#pickle - seriasiable file format\n",
    "# #Pickle is very useful for when you're working with machine learning algorithms, \n",
    "# where you want to save them to be able to make new predictions at a later time, without having to rewrite everything or \n",
    "# train the model all over again.\n",
    "# open() is for opening the file for writing , open(filename(isko kuch bhi naam de sakte hai,\"wb\"(write mode be hoga))\n",
    "                                                  \n",
    "\n",
    "# pickle.dump(object you want to pickle,file to which the object has to be saved)\n",
    "# ie. you'll pass yur object which is linear and save it in a file called linear_reg which will open in the write mode"
   ]
  },
  {
   "cell_type": "code",
   "execution_count": null,
   "id": "72ba5b6a",
   "metadata": {},
   "outputs": [],
   "source": [
    "#saving the object -- value of m and c is there \n",
    "#we need to save this object inside a file -- s thats sharable"
   ]
  },
  {
   "cell_type": "code",
   "execution_count": null,
   "id": "5220c7dc",
   "metadata": {},
   "outputs": [],
   "source": [
    "pickle.dump(linear,open(file,\"wb\")) #wb is to write it #linear is an object of the class"
   ]
  },
  {
   "cell_type": "code",
   "execution_count": null,
   "id": "909b803e",
   "metadata": {},
   "outputs": [],
   "source": [
    "#prediction"
   ]
  },
  {
   "cell_type": "code",
   "execution_count": null,
   "id": "29fce20c",
   "metadata": {},
   "outputs": [],
   "source": [
    "linear.predict([[45]]) #if on TV advertisement we spend 45$ then the sales would be 9.17"
   ]
  },
  {
   "cell_type": "code",
   "execution_count": null,
   "id": "2c706636",
   "metadata": {},
   "outputs": [],
   "source": [
    "linear.predict([[]])"
   ]
  },
  {
   "cell_type": "code",
   "execution_count": null,
   "id": "358b755a",
   "metadata": {},
   "outputs": [],
   "source": [
    "l= [4,5,3,2,23,44] #tv expenses\n",
    "#Problem statement : tell me the sales on each and every expense of this"
   ]
  },
  {
   "cell_type": "code",
   "execution_count": null,
   "id": "005f1688",
   "metadata": {},
   "outputs": [],
   "source": [
    "for i in l:\n",
    "    print(linear.predict([[i]]))"
   ]
  },
  {
   "cell_type": "code",
   "execution_count": null,
   "id": "fc5e5fca",
   "metadata": {},
   "outputs": [],
   "source": [
    "#by default x input thats is feature input that scikit learn takes is a 2d input "
   ]
  },
  {
   "cell_type": "code",
   "execution_count": null,
   "id": "fb305136",
   "metadata": {},
   "outputs": [],
   "source": [
    "#build a model ie some equation\n",
    "#save that model - in a physical file \n",
    "#do the prediction of the model\n",
    "#accuracy of the mdel using r^2"
   ]
  },
  {
   "cell_type": "code",
   "execution_count": null,
   "id": "ec07c08e",
   "metadata": {},
   "outputs": [],
   "source": [
    "saved_model=pickle.load(open(file,\"rb\"))"
   ]
  },
  {
   "cell_type": "code",
   "execution_count": null,
   "id": "eee5258a",
   "metadata": {},
   "outputs": [],
   "source": [
    "saved_model"
   ]
  },
  {
   "cell_type": "code",
   "execution_count": null,
   "id": "335b9454",
   "metadata": {},
   "outputs": [],
   "source": [
    "saved_model.predict([[45]])"
   ]
  },
  {
   "cell_type": "code",
   "execution_count": null,
   "id": "39f22b5d",
   "metadata": {},
   "outputs": [],
   "source": [
    "#accurcy of the model"
   ]
  },
  {
   "cell_type": "code",
   "execution_count": null,
   "id": "9c4774ac",
   "metadata": {},
   "outputs": [],
   "source": [
    "linear.score(x,y) #accuracy is 61% -- R^2 (1-rss/tss) it lies between 0 and 1\n",
    "#not a good score\n",
    "#dataset is not showing a relationship \n",
    "#rss= summation(y-ypredict)^2\n",
    "#tss = summation(y- ymean)^2"
   ]
  },
  {
   "cell_type": "code",
   "execution_count": null,
   "id": "5d1f5dc1",
   "metadata": {},
   "outputs": [],
   "source": [
    "#mutiple regression problem \n",
    "#https://archive.ics.uci.edu/ml/machine-learning-databases/00601/\n",
    "# y = air temp\n",
    "# x1,x2,x3= all rest of the columns \n",
    "# #load a data \n",
    "# profiling of data\n",
    "# write your analysis/observation of data \n",
    "#go for imputation incase of nan\n",
    "#if dataset not normal - handle it\n",
    "#check multicolinearity\n",
    "#build linear regresion model\n",
    "#save it\n",
    "#model accuarcy\n",
    "#testcase\n",
    "#all coding procedures to be followed\n"
   ]
  },
  {
   "cell_type": "code",
   "execution_count": null,
   "id": "0e3bc981",
   "metadata": {},
   "outputs": [],
   "source": [
    "df1 = pd.read_csv(r\"C:\\Users\\acer\\Desktop\\New folder\\Machine Learning Algorithms Lecture\\ai4i2020.csv\")"
   ]
  },
  {
   "cell_type": "code",
   "execution_count": null,
   "id": "e2741d93",
   "metadata": {},
   "outputs": [],
   "source": [
    "df1"
   ]
  },
  {
   "cell_type": "code",
   "execution_count": null,
   "id": "6b719b82",
   "metadata": {
    "scrolled": true
   },
   "outputs": [],
   "source": [
    "df1.describe()"
   ]
  },
  {
   "cell_type": "code",
   "execution_count": null,
   "id": "b1d3d066",
   "metadata": {},
   "outputs": [],
   "source": [
    "pf= ProfileReport(df1)"
   ]
  },
  {
   "cell_type": "code",
   "execution_count": null,
   "id": "be15a729",
   "metadata": {},
   "outputs": [],
   "source": [
    "pf"
   ]
  },
  {
   "cell_type": "code",
   "execution_count": null,
   "id": "14e6ffbe",
   "metadata": {},
   "outputs": [],
   "source": [
    "pf.to_widgets()"
   ]
  },
  {
   "cell_type": "code",
   "execution_count": null,
   "id": "b69c94a6",
   "metadata": {},
   "outputs": [],
   "source": [
    "linear1= LinearRegression()"
   ]
  },
  {
   "cell_type": "code",
   "execution_count": null,
   "id": "e3dc911d",
   "metadata": {},
   "outputs": [],
   "source": [
    "linear1"
   ]
  },
  {
   "cell_type": "code",
   "execution_count": null,
   "id": "9f22ef7b",
   "metadata": {},
   "outputs": [],
   "source": [
    "x = df1[\"Process temperature [K]\"]"
   ]
  },
  {
   "cell_type": "code",
   "execution_count": null,
   "id": "12a10261",
   "metadata": {},
   "outputs": [],
   "source": [
    "x=df1[[\"Process temperature [K]\"]]"
   ]
  },
  {
   "cell_type": "code",
   "execution_count": null,
   "id": "1854ada4",
   "metadata": {},
   "outputs": [],
   "source": [
    "y = df1[\"Air temperature [K]\"]"
   ]
  },
  {
   "cell_type": "code",
   "execution_count": null,
   "id": "2a763f49",
   "metadata": {},
   "outputs": [],
   "source": [
    "linear1.fit(x,y)"
   ]
  },
  {
   "cell_type": "code",
   "execution_count": null,
   "id": "6910f1a4",
   "metadata": {},
   "outputs": [],
   "source": [
    "linear1.coef_"
   ]
  },
  {
   "cell_type": "code",
   "execution_count": null,
   "id": "01fe2e16",
   "metadata": {},
   "outputs": [],
   "source": [
    "linear1.intercept_"
   ]
  },
  {
   "cell_type": "code",
   "execution_count": null,
   "id": "c6935f09",
   "metadata": {},
   "outputs": [],
   "source": [
    "file = \"linear_model.sav\""
   ]
  },
  {
   "cell_type": "code",
   "execution_count": null,
   "id": "1b0ce414",
   "metadata": {},
   "outputs": [],
   "source": [
    "pickle.dump(linear1,open(file,\"wb\"))"
   ]
  },
  {
   "cell_type": "code",
   "execution_count": null,
   "id": "85e8fba0",
   "metadata": {},
   "outputs": [],
   "source": [
    "saved_model1=pickle.load(open(file,\"rb\"))"
   ]
  },
  {
   "cell_type": "code",
   "execution_count": null,
   "id": "256adf3c",
   "metadata": {},
   "outputs": [],
   "source": [
    "saved_model1.predict([[34]])"
   ]
  },
  {
   "cell_type": "code",
   "execution_count": null,
   "id": "c6e1d3b2",
   "metadata": {},
   "outputs": [],
   "source": [
    "########################## Linear Regression -2 ######################################################"
   ]
  },
  {
   "cell_type": "code",
   "execution_count": null,
   "id": "36dc9b6d",
   "metadata": {},
   "outputs": [],
   "source": [
    "#multiple regression - multiple features and then build model\n",
    "#Adjusted R^2\n",
    "#Linear Regression is high bias, low variance model\n",
    "\n",
    "#bias=error(y-ypredicted) or cost or loss functin\n",
    "bias is a error that you get at the time of traini\n",
    "#error more will adjust more and variance = dispersion of dataset\n",
    "# whenver trying to model --\n"
   ]
  },
  {
   "cell_type": "code",
   "execution_count": null,
   "id": "95b01e90",
   "metadata": {},
   "outputs": [],
   "source": [
    "df"
   ]
  },
  {
   "cell_type": "code",
   "execution_count": null,
   "id": "dbdb0df0",
   "metadata": {},
   "outputs": [],
   "source": [
    "data_x = df[[\"TV\",\"Radio\",\"Newspaper\"]]"
   ]
  },
  {
   "cell_type": "code",
   "execution_count": null,
   "id": "851e2309",
   "metadata": {},
   "outputs": [],
   "source": [
    "data_x"
   ]
  },
  {
   "cell_type": "code",
   "execution_count": null,
   "id": "b89f944c",
   "metadata": {},
   "outputs": [],
   "source": [
    "y = df.Sales"
   ]
  },
  {
   "cell_type": "code",
   "execution_count": null,
   "id": "22fca755",
   "metadata": {},
   "outputs": [],
   "source": [
    "y"
   ]
  },
  {
   "cell_type": "code",
   "execution_count": null,
   "id": "3a322b1d",
   "metadata": {},
   "outputs": [],
   "source": [
    "df[\"TV\"] #gives series"
   ]
  },
  {
   "cell_type": "code",
   "execution_count": null,
   "id": "7aa0245b",
   "metadata": {},
   "outputs": [],
   "source": [
    "df[[\"TV\"]] #gives dataframe\n",
    "#and can give multiple entries in this dataframe \n"
   ]
  },
  {
   "cell_type": "code",
   "execution_count": null,
   "id": "05111ac3",
   "metadata": {},
   "outputs": [],
   "source": [
    "lm = LinearRegression() #object of LinearRegression created -- LinearRegression is a class\n"
   ]
  },
  {
   "cell_type": "code",
   "execution_count": null,
   "id": "6cf56166",
   "metadata": {},
   "outputs": [],
   "source": [
    "lm"
   ]
  },
  {
   "cell_type": "code",
   "execution_count": null,
   "id": "6bd39cee",
   "metadata": {},
   "outputs": [],
   "source": [
    "lm.fit(data_x,y) #this is going to build a linear regression model"
   ]
  },
  {
   "cell_type": "code",
   "execution_count": null,
   "id": "0e16c7fb",
   "metadata": {},
   "outputs": [],
   "source": [
    "lm.intercept_"
   ]
  },
  {
   "cell_type": "code",
   "execution_count": null,
   "id": "56ba4a9c",
   "metadata": {},
   "outputs": [],
   "source": [
    "lm.coef_"
   ]
  },
  {
   "cell_type": "code",
   "execution_count": null,
   "id": "6fb0dcea",
   "metadata": {},
   "outputs": [],
   "source": [
    "lm.score(data_x,y)\n",
    "#0.89 accuracy or R^2 hai- when considering ll 3 variables \n",
    "#confidence score hai yeh\n",
    "#consider multiple column instead of one column "
   ]
  },
  {
   "cell_type": "code",
   "execution_count": null,
   "id": "6e56e67d",
   "metadata": {},
   "outputs": [],
   "source": [
    "data2= df[[\"TV\",\"Radio\"]]"
   ]
  },
  {
   "cell_type": "code",
   "execution_count": null,
   "id": "502a16fa",
   "metadata": {},
   "outputs": [],
   "source": [
    "y=df.Sales"
   ]
  },
  {
   "cell_type": "code",
   "execution_count": null,
   "id": "44938e81",
   "metadata": {},
   "outputs": [],
   "source": [
    "lm= LinearRegression()"
   ]
  },
  {
   "cell_type": "code",
   "execution_count": null,
   "id": "e397f4e6",
   "metadata": {},
   "outputs": [],
   "source": [
    "lm"
   ]
  },
  {
   "cell_type": "code",
   "execution_count": null,
   "id": "0157af5b",
   "metadata": {},
   "outputs": [],
   "source": [
    "lm.fit(data2,y)"
   ]
  },
  {
   "cell_type": "code",
   "execution_count": null,
   "id": "3bb80b38",
   "metadata": {},
   "outputs": [],
   "source": [
    "lm.coef_"
   ]
  },
  {
   "cell_type": "code",
   "execution_count": null,
   "id": "162601a1",
   "metadata": {},
   "outputs": [],
   "source": [
    "lm.intercept_"
   ]
  },
  {
   "cell_type": "code",
   "execution_count": null,
   "id": "47c5db23",
   "metadata": {},
   "outputs": [],
   "source": [
    "lm.score(data2,y) #approx same hai -- not much loss "
   ]
  },
  {
   "cell_type": "code",
   "execution_count": null,
   "id": "a1fa3de7",
   "metadata": {},
   "outputs": [],
   "source": [
    "-0.00103749"
   ]
  },
  {
   "cell_type": "code",
   "execution_count": null,
   "id": "52796aed",
   "metadata": {},
   "outputs": [],
   "source": [
    "#using statistical approach\n",
    "#using statsistcal model"
   ]
  },
  {
   "cell_type": "code",
   "execution_count": null,
   "id": "1c8119c1",
   "metadata": {},
   "outputs": [],
   "source": [
    "import statsmodels.formula.api as smf\n",
    "#ols = ordinary least square method"
   ]
  },
  {
   "cell_type": "code",
   "execution_count": null,
   "id": "2ba14fc2",
   "metadata": {},
   "outputs": [],
   "source": [
    "lm= smf.ols(formula= \"Sales ~ TV\",data = df).fit()"
   ]
  },
  {
   "cell_type": "code",
   "execution_count": null,
   "id": "c32b0d5f",
   "metadata": {},
   "outputs": [],
   "source": [
    "lm.summary()"
   ]
  },
  {
   "cell_type": "code",
   "execution_count": null,
   "id": "76f82c29",
   "metadata": {},
   "outputs": [],
   "source": [
    "lm = smf.ols(formula=\"Sales ~ TV+Radio\",data=df).fit()"
   ]
  },
  {
   "cell_type": "code",
   "execution_count": null,
   "id": "ef0d28df",
   "metadata": {},
   "outputs": [],
   "source": [
    "lm.summary()"
   ]
  },
  {
   "cell_type": "code",
   "execution_count": null,
   "id": "4546aa36",
   "metadata": {},
   "outputs": [],
   "source": [
    "lm=smf.ols(formula=\"Sales ~ TV+Radio+Newspaper\",data=df).fit()"
   ]
  },
  {
   "cell_type": "code",
   "execution_count": null,
   "id": "88619333",
   "metadata": {},
   "outputs": [],
   "source": [
    "lm.summary()"
   ]
  },
  {
   "cell_type": "code",
   "execution_count": null,
   "id": "be55db4a",
   "metadata": {},
   "outputs": [],
   "source": [
    "#mUlticolinarityy"
   ]
  },
  {
   "cell_type": "code",
   "execution_count": 1,
   "id": "531537d1",
   "metadata": {},
   "outputs": [],
   "source": [
    "import pandas as pd\n",
    "import numpy as np\n",
    "from sklearn.preprocessing import StandardScaler\n",
    "from sklearn.linear_model import Ridge,Lasso,RidgeCV,LassoCV,ElasticNet,ElasticNetCV,LinearRegression #CV = Cross Validation\n",
    "from sklearn.model_selection import train_test_split\n",
    "import statsmodels.api as sm\n",
    "import matplotlib.pyplot as plt\n",
    "import seaborn as sns"
   ]
  },
  {
   "cell_type": "code",
   "execution_count": 2,
   "id": "b2f0960d",
   "metadata": {},
   "outputs": [],
   "source": [
    "df=pd.read_csv(\"Admission_Prediction.csv\") #admission_prediction dataset is saved in the folder hence no need to\n",
    "#copy the entire path\n",
    "#Build a model -- gre,teofl,uni ranking,sop,lor,cgpa,research -- what is the chance of admit?\n",
    "#serial= index number \n"
   ]
  },
  {
   "cell_type": "code",
   "execution_count": 3,
   "id": "a7ac2e72",
   "metadata": {},
   "outputs": [
    {
     "data": {
      "text/html": [
       "<div>\n",
       "<style scoped>\n",
       "    .dataframe tbody tr th:only-of-type {\n",
       "        vertical-align: middle;\n",
       "    }\n",
       "\n",
       "    .dataframe tbody tr th {\n",
       "        vertical-align: top;\n",
       "    }\n",
       "\n",
       "    .dataframe thead th {\n",
       "        text-align: right;\n",
       "    }\n",
       "</style>\n",
       "<table border=\"1\" class=\"dataframe\">\n",
       "  <thead>\n",
       "    <tr style=\"text-align: right;\">\n",
       "      <th></th>\n",
       "      <th>Serial No.</th>\n",
       "      <th>GRE Score</th>\n",
       "      <th>TOEFL Score</th>\n",
       "      <th>University Rating</th>\n",
       "      <th>SOP</th>\n",
       "      <th>LOR</th>\n",
       "      <th>CGPA</th>\n",
       "      <th>Research</th>\n",
       "      <th>Chance of Admit</th>\n",
       "    </tr>\n",
       "  </thead>\n",
       "  <tbody>\n",
       "    <tr>\n",
       "      <th>0</th>\n",
       "      <td>1</td>\n",
       "      <td>337.0</td>\n",
       "      <td>118.0</td>\n",
       "      <td>4.0</td>\n",
       "      <td>4.5</td>\n",
       "      <td>4.5</td>\n",
       "      <td>9.65</td>\n",
       "      <td>1</td>\n",
       "      <td>0.92</td>\n",
       "    </tr>\n",
       "    <tr>\n",
       "      <th>1</th>\n",
       "      <td>2</td>\n",
       "      <td>324.0</td>\n",
       "      <td>107.0</td>\n",
       "      <td>4.0</td>\n",
       "      <td>4.0</td>\n",
       "      <td>4.5</td>\n",
       "      <td>8.87</td>\n",
       "      <td>1</td>\n",
       "      <td>0.76</td>\n",
       "    </tr>\n",
       "    <tr>\n",
       "      <th>2</th>\n",
       "      <td>3</td>\n",
       "      <td>NaN</td>\n",
       "      <td>104.0</td>\n",
       "      <td>3.0</td>\n",
       "      <td>3.0</td>\n",
       "      <td>3.5</td>\n",
       "      <td>8.00</td>\n",
       "      <td>1</td>\n",
       "      <td>0.72</td>\n",
       "    </tr>\n",
       "    <tr>\n",
       "      <th>3</th>\n",
       "      <td>4</td>\n",
       "      <td>322.0</td>\n",
       "      <td>110.0</td>\n",
       "      <td>3.0</td>\n",
       "      <td>3.5</td>\n",
       "      <td>2.5</td>\n",
       "      <td>8.67</td>\n",
       "      <td>1</td>\n",
       "      <td>0.80</td>\n",
       "    </tr>\n",
       "    <tr>\n",
       "      <th>4</th>\n",
       "      <td>5</td>\n",
       "      <td>314.0</td>\n",
       "      <td>103.0</td>\n",
       "      <td>2.0</td>\n",
       "      <td>2.0</td>\n",
       "      <td>3.0</td>\n",
       "      <td>8.21</td>\n",
       "      <td>0</td>\n",
       "      <td>0.65</td>\n",
       "    </tr>\n",
       "    <tr>\n",
       "      <th>...</th>\n",
       "      <td>...</td>\n",
       "      <td>...</td>\n",
       "      <td>...</td>\n",
       "      <td>...</td>\n",
       "      <td>...</td>\n",
       "      <td>...</td>\n",
       "      <td>...</td>\n",
       "      <td>...</td>\n",
       "      <td>...</td>\n",
       "    </tr>\n",
       "    <tr>\n",
       "      <th>495</th>\n",
       "      <td>496</td>\n",
       "      <td>332.0</td>\n",
       "      <td>108.0</td>\n",
       "      <td>5.0</td>\n",
       "      <td>4.5</td>\n",
       "      <td>4.0</td>\n",
       "      <td>9.02</td>\n",
       "      <td>1</td>\n",
       "      <td>0.87</td>\n",
       "    </tr>\n",
       "    <tr>\n",
       "      <th>496</th>\n",
       "      <td>497</td>\n",
       "      <td>337.0</td>\n",
       "      <td>117.0</td>\n",
       "      <td>5.0</td>\n",
       "      <td>5.0</td>\n",
       "      <td>5.0</td>\n",
       "      <td>9.87</td>\n",
       "      <td>1</td>\n",
       "      <td>0.96</td>\n",
       "    </tr>\n",
       "    <tr>\n",
       "      <th>497</th>\n",
       "      <td>498</td>\n",
       "      <td>330.0</td>\n",
       "      <td>120.0</td>\n",
       "      <td>5.0</td>\n",
       "      <td>4.5</td>\n",
       "      <td>5.0</td>\n",
       "      <td>9.56</td>\n",
       "      <td>1</td>\n",
       "      <td>0.93</td>\n",
       "    </tr>\n",
       "    <tr>\n",
       "      <th>498</th>\n",
       "      <td>499</td>\n",
       "      <td>312.0</td>\n",
       "      <td>103.0</td>\n",
       "      <td>4.0</td>\n",
       "      <td>4.0</td>\n",
       "      <td>5.0</td>\n",
       "      <td>8.43</td>\n",
       "      <td>0</td>\n",
       "      <td>0.73</td>\n",
       "    </tr>\n",
       "    <tr>\n",
       "      <th>499</th>\n",
       "      <td>500</td>\n",
       "      <td>327.0</td>\n",
       "      <td>113.0</td>\n",
       "      <td>4.0</td>\n",
       "      <td>4.5</td>\n",
       "      <td>4.5</td>\n",
       "      <td>9.04</td>\n",
       "      <td>0</td>\n",
       "      <td>0.84</td>\n",
       "    </tr>\n",
       "  </tbody>\n",
       "</table>\n",
       "<p>500 rows × 9 columns</p>\n",
       "</div>"
      ],
      "text/plain": [
       "     Serial No.  GRE Score  TOEFL Score  University Rating  SOP  LOR  CGPA  \\\n",
       "0             1      337.0        118.0                4.0  4.5  4.5  9.65   \n",
       "1             2      324.0        107.0                4.0  4.0  4.5  8.87   \n",
       "2             3        NaN        104.0                3.0  3.0  3.5  8.00   \n",
       "3             4      322.0        110.0                3.0  3.5  2.5  8.67   \n",
       "4             5      314.0        103.0                2.0  2.0  3.0  8.21   \n",
       "..          ...        ...          ...                ...  ...  ...   ...   \n",
       "495         496      332.0        108.0                5.0  4.5  4.0  9.02   \n",
       "496         497      337.0        117.0                5.0  5.0  5.0  9.87   \n",
       "497         498      330.0        120.0                5.0  4.5  5.0  9.56   \n",
       "498         499      312.0        103.0                4.0  4.0  5.0  8.43   \n",
       "499         500      327.0        113.0                4.0  4.5  4.5  9.04   \n",
       "\n",
       "     Research  Chance of Admit  \n",
       "0           1             0.92  \n",
       "1           1             0.76  \n",
       "2           1             0.72  \n",
       "3           1             0.80  \n",
       "4           0             0.65  \n",
       "..        ...              ...  \n",
       "495         1             0.87  \n",
       "496         1             0.96  \n",
       "497         1             0.93  \n",
       "498         0             0.73  \n",
       "499         0             0.84  \n",
       "\n",
       "[500 rows x 9 columns]"
      ]
     },
     "execution_count": 3,
     "metadata": {},
     "output_type": "execute_result"
    }
   ],
   "source": [
    "df"
   ]
  },
  {
   "cell_type": "code",
   "execution_count": null,
   "id": "bbfb94ae",
   "metadata": {},
   "outputs": [],
   "source": [
    "df.describe()"
   ]
  },
  {
   "cell_type": "code",
   "execution_count": 4,
   "id": "68b10a7c",
   "metadata": {},
   "outputs": [],
   "source": [
    "from pandas_profiling import ProfileReport"
   ]
  },
  {
   "cell_type": "code",
   "execution_count": null,
   "id": "99e00388",
   "metadata": {},
   "outputs": [],
   "source": [
    "pf=ProfileReport(df)"
   ]
  },
  {
   "cell_type": "code",
   "execution_count": null,
   "id": "d31ad6ec",
   "metadata": {},
   "outputs": [],
   "source": [
    "pf.to_widgets()\n",
    "#verify from thr grraph there exists a linear relaationship -- uske bad hi we can use linear regrssion \n",
    "#multicolinearity is there between features ad bhut blue hai\n",
    "#missing data is also there \n",
    "#this data required preprocessing/improvements karni hai"
   ]
  },
  {
   "cell_type": "code",
   "execution_count": null,
   "id": "e3ebcd28",
   "metadata": {},
   "outputs": [],
   "source": [
    "pf.to_file(\"Admission_Prediction_1.html\")"
   ]
  },
  {
   "cell_type": "code",
   "execution_count": null,
   "id": "30def586",
   "metadata": {},
   "outputs": [],
   "source": [
    "df"
   ]
  },
  {
   "cell_type": "code",
   "execution_count": null,
   "id": "3bdc4e07",
   "metadata": {},
   "outputs": [],
   "source": [
    "#missing values are there in some features"
   ]
  },
  {
   "cell_type": "code",
   "execution_count": 5,
   "id": "c3d82b59",
   "metadata": {},
   "outputs": [],
   "source": [
    "df[\"GRE Score\"] = df[\"GRE Score\"].fillna(df[\"GRE Score\"].mean())\n",
    "#inplace=True not required as this is an reassignment operation\n",
    "#pandas has something called fillna -- repplacing wherever you have na in the gre score column by its mean"
   ]
  },
  {
   "cell_type": "code",
   "execution_count": null,
   "id": "88e749f1",
   "metadata": {},
   "outputs": [],
   "source": [
    "df[\"GRE Score\"]"
   ]
  },
  {
   "cell_type": "code",
   "execution_count": 6,
   "id": "c4ab7d5e",
   "metadata": {},
   "outputs": [],
   "source": [
    "#fill all the null values which is inside toefl score by toefl score's mean \n",
    "df[\"TOEFL Score\"]= df[\"TOEFL Score\"].fillna(df[\"TOEFL Score\"].mean())"
   ]
  },
  {
   "cell_type": "code",
   "execution_count": 7,
   "id": "c7198b32",
   "metadata": {},
   "outputs": [],
   "source": [
    "df[\"University Rating\"] = df[\"University Rating\"].fillna(df[\"University Rating\"].mean())"
   ]
  },
  {
   "cell_type": "code",
   "execution_count": null,
   "id": "cf87a770",
   "metadata": {},
   "outputs": [],
   "source": [
    " df.describe() #no missing values count has become 500 "
   ]
  },
  {
   "cell_type": "code",
   "execution_count": 8,
   "id": "47d8f281",
   "metadata": {},
   "outputs": [
    {
     "data": {
      "text/html": [
       "<div>\n",
       "<style scoped>\n",
       "    .dataframe tbody tr th:only-of-type {\n",
       "        vertical-align: middle;\n",
       "    }\n",
       "\n",
       "    .dataframe tbody tr th {\n",
       "        vertical-align: top;\n",
       "    }\n",
       "\n",
       "    .dataframe thead th {\n",
       "        text-align: right;\n",
       "    }\n",
       "</style>\n",
       "<table border=\"1\" class=\"dataframe\">\n",
       "  <thead>\n",
       "    <tr style=\"text-align: right;\">\n",
       "      <th></th>\n",
       "      <th>Serial No.</th>\n",
       "      <th>GRE Score</th>\n",
       "      <th>TOEFL Score</th>\n",
       "      <th>University Rating</th>\n",
       "      <th>SOP</th>\n",
       "      <th>LOR</th>\n",
       "      <th>CGPA</th>\n",
       "      <th>Research</th>\n",
       "      <th>Chance of Admit</th>\n",
       "    </tr>\n",
       "  </thead>\n",
       "  <tbody>\n",
       "    <tr>\n",
       "      <th>0</th>\n",
       "      <td>False</td>\n",
       "      <td>False</td>\n",
       "      <td>False</td>\n",
       "      <td>False</td>\n",
       "      <td>False</td>\n",
       "      <td>False</td>\n",
       "      <td>False</td>\n",
       "      <td>False</td>\n",
       "      <td>False</td>\n",
       "    </tr>\n",
       "    <tr>\n",
       "      <th>1</th>\n",
       "      <td>False</td>\n",
       "      <td>False</td>\n",
       "      <td>False</td>\n",
       "      <td>False</td>\n",
       "      <td>False</td>\n",
       "      <td>False</td>\n",
       "      <td>False</td>\n",
       "      <td>False</td>\n",
       "      <td>False</td>\n",
       "    </tr>\n",
       "    <tr>\n",
       "      <th>2</th>\n",
       "      <td>False</td>\n",
       "      <td>False</td>\n",
       "      <td>False</td>\n",
       "      <td>False</td>\n",
       "      <td>False</td>\n",
       "      <td>False</td>\n",
       "      <td>False</td>\n",
       "      <td>False</td>\n",
       "      <td>False</td>\n",
       "    </tr>\n",
       "    <tr>\n",
       "      <th>3</th>\n",
       "      <td>False</td>\n",
       "      <td>False</td>\n",
       "      <td>False</td>\n",
       "      <td>False</td>\n",
       "      <td>False</td>\n",
       "      <td>False</td>\n",
       "      <td>False</td>\n",
       "      <td>False</td>\n",
       "      <td>False</td>\n",
       "    </tr>\n",
       "    <tr>\n",
       "      <th>4</th>\n",
       "      <td>False</td>\n",
       "      <td>False</td>\n",
       "      <td>False</td>\n",
       "      <td>False</td>\n",
       "      <td>False</td>\n",
       "      <td>False</td>\n",
       "      <td>False</td>\n",
       "      <td>False</td>\n",
       "      <td>False</td>\n",
       "    </tr>\n",
       "    <tr>\n",
       "      <th>...</th>\n",
       "      <td>...</td>\n",
       "      <td>...</td>\n",
       "      <td>...</td>\n",
       "      <td>...</td>\n",
       "      <td>...</td>\n",
       "      <td>...</td>\n",
       "      <td>...</td>\n",
       "      <td>...</td>\n",
       "      <td>...</td>\n",
       "    </tr>\n",
       "    <tr>\n",
       "      <th>495</th>\n",
       "      <td>False</td>\n",
       "      <td>False</td>\n",
       "      <td>False</td>\n",
       "      <td>False</td>\n",
       "      <td>False</td>\n",
       "      <td>False</td>\n",
       "      <td>False</td>\n",
       "      <td>False</td>\n",
       "      <td>False</td>\n",
       "    </tr>\n",
       "    <tr>\n",
       "      <th>496</th>\n",
       "      <td>False</td>\n",
       "      <td>False</td>\n",
       "      <td>False</td>\n",
       "      <td>False</td>\n",
       "      <td>False</td>\n",
       "      <td>False</td>\n",
       "      <td>False</td>\n",
       "      <td>False</td>\n",
       "      <td>False</td>\n",
       "    </tr>\n",
       "    <tr>\n",
       "      <th>497</th>\n",
       "      <td>False</td>\n",
       "      <td>False</td>\n",
       "      <td>False</td>\n",
       "      <td>False</td>\n",
       "      <td>False</td>\n",
       "      <td>False</td>\n",
       "      <td>False</td>\n",
       "      <td>False</td>\n",
       "      <td>False</td>\n",
       "    </tr>\n",
       "    <tr>\n",
       "      <th>498</th>\n",
       "      <td>False</td>\n",
       "      <td>False</td>\n",
       "      <td>False</td>\n",
       "      <td>False</td>\n",
       "      <td>False</td>\n",
       "      <td>False</td>\n",
       "      <td>False</td>\n",
       "      <td>False</td>\n",
       "      <td>False</td>\n",
       "    </tr>\n",
       "    <tr>\n",
       "      <th>499</th>\n",
       "      <td>False</td>\n",
       "      <td>False</td>\n",
       "      <td>False</td>\n",
       "      <td>False</td>\n",
       "      <td>False</td>\n",
       "      <td>False</td>\n",
       "      <td>False</td>\n",
       "      <td>False</td>\n",
       "      <td>False</td>\n",
       "    </tr>\n",
       "  </tbody>\n",
       "</table>\n",
       "<p>500 rows × 9 columns</p>\n",
       "</div>"
      ],
      "text/plain": [
       "     Serial No.  GRE Score  TOEFL Score  University Rating    SOP    LOR  \\\n",
       "0         False      False        False              False  False  False   \n",
       "1         False      False        False              False  False  False   \n",
       "2         False      False        False              False  False  False   \n",
       "3         False      False        False              False  False  False   \n",
       "4         False      False        False              False  False  False   \n",
       "..          ...        ...          ...                ...    ...    ...   \n",
       "495       False      False        False              False  False  False   \n",
       "496       False      False        False              False  False  False   \n",
       "497       False      False        False              False  False  False   \n",
       "498       False      False        False              False  False  False   \n",
       "499       False      False        False              False  False  False   \n",
       "\n",
       "      CGPA  Research  Chance of Admit  \n",
       "0    False     False            False  \n",
       "1    False     False            False  \n",
       "2    False     False            False  \n",
       "3    False     False            False  \n",
       "4    False     False            False  \n",
       "..     ...       ...              ...  \n",
       "495  False     False            False  \n",
       "496  False     False            False  \n",
       "497  False     False            False  \n",
       "498  False     False            False  \n",
       "499  False     False            False  \n",
       "\n",
       "[500 rows x 9 columns]"
      ]
     },
     "execution_count": 8,
     "metadata": {},
     "output_type": "execute_result"
    }
   ],
   "source": [
    "df.isnull() #isnull gives true and false -- sab pandas ke andar ke function hai \n"
   ]
  },
  {
   "cell_type": "code",
   "execution_count": 9,
   "id": "4e7761bd",
   "metadata": {},
   "outputs": [
    {
     "data": {
      "text/plain": [
       "Serial No.           0\n",
       "GRE Score            0\n",
       "TOEFL Score          0\n",
       "University Rating    0\n",
       "SOP                  0\n",
       "LOR                  0\n",
       "CGPA                 0\n",
       "Research             0\n",
       "Chance of Admit      0\n",
       "dtype: int64"
      ]
     },
     "execution_count": 9,
     "metadata": {},
     "output_type": "execute_result"
    }
   ],
   "source": [
    "df.isnull().sum() #no missing values"
   ]
  },
  {
   "cell_type": "code",
   "execution_count": null,
   "id": "3a7477e3",
   "metadata": {},
   "outputs": [],
   "source": [
    "#seial number is a coolumn not of use -- drop it -- just indexing hai "
   ]
  },
  {
   "cell_type": "code",
   "execution_count": 10,
   "id": "0c07336e",
   "metadata": {},
   "outputs": [],
   "source": [
    "df.drop(columns = [\"Serial No.\"],inplace = True)"
   ]
  },
  {
   "cell_type": "code",
   "execution_count": null,
   "id": "b6bdeaff",
   "metadata": {},
   "outputs": [],
   "source": [
    "df"
   ]
  },
  {
   "cell_type": "code",
   "execution_count": 11,
   "id": "63261d0f",
   "metadata": {},
   "outputs": [
    {
     "data": {
      "text/plain": [
       "0      0.92\n",
       "1      0.76\n",
       "2      0.72\n",
       "3      0.80\n",
       "4      0.65\n",
       "       ... \n",
       "495    0.87\n",
       "496    0.96\n",
       "497    0.93\n",
       "498    0.73\n",
       "499    0.84\n",
       "Name: Chance of Admit, Length: 500, dtype: float64"
      ]
     },
     "execution_count": 11,
     "metadata": {},
     "output_type": "execute_result"
    }
   ],
   "source": [
    "y= df[\"Chance of Admit\"] #feature columnn\n",
    "y"
   ]
  },
  {
   "cell_type": "code",
   "execution_count": 12,
   "id": "6d6f747d",
   "metadata": {},
   "outputs": [],
   "source": [
    "x= df.drop(columns=[\"Chance of Admit\"])\n",
    "#reassignment operation to a variable x and hence inplace=True isnt used"
   ]
  },
  {
   "cell_type": "code",
   "execution_count": null,
   "id": "df935b4d",
   "metadata": {},
   "outputs": [],
   "source": [
    "x"
   ]
  },
  {
   "cell_type": "code",
   "execution_count": null,
   "id": "74b46cc2",
   "metadata": {},
   "outputs": [],
   "source": [
    "#normalisation or standardisation lagana hai\n",
    "#standard scalar is used for normalisation ie. z statistic"
   ]
  },
  {
   "cell_type": "code",
   "execution_count": 13,
   "id": "d07c9564",
   "metadata": {},
   "outputs": [],
   "source": [
    "scaler= StandardScaler() #creating an object of standard scaler"
   ]
  },
  {
   "cell_type": "code",
   "execution_count": 14,
   "id": "b5b06a24",
   "metadata": {},
   "outputs": [],
   "source": [
    "arr = scaler.fit_transform(x) #trying to fit my features x are the features\n",
    "#fit_transform is a function that is assciated with StandardScaler"
   ]
  },
  {
   "cell_type": "code",
   "execution_count": null,
   "id": "363ee35e",
   "metadata": {},
   "outputs": [],
   "source": [
    "arr"
   ]
  },
  {
   "cell_type": "code",
   "execution_count": 15,
   "id": "c9844386",
   "metadata": {},
   "outputs": [],
   "source": [
    "#converting this array into dataframe\n",
    "df1 =pd.DataFrame(arr)"
   ]
  },
  {
   "cell_type": "code",
   "execution_count": null,
   "id": "e819d384",
   "metadata": {
    "scrolled": true
   },
   "outputs": [],
   "source": [
    "ProfileReport(df1)"
   ]
  },
  {
   "cell_type": "code",
   "execution_count": 16,
   "id": "8580cad2",
   "metadata": {},
   "outputs": [],
   "source": [
    "pf2=df1.profile_report()"
   ]
  },
  {
   "cell_type": "code",
   "execution_count": 17,
   "id": "f8fb9067",
   "metadata": {
    "scrolled": false
   },
   "outputs": [
    {
     "data": {
      "application/vnd.jupyter.widget-view+json": {
       "model_id": "91d34b5b834349fdb56bbdd0c4d003a1",
       "version_major": 2,
       "version_minor": 0
      },
      "text/plain": [
       "Summarize dataset:   0%|          | 0/5 [00:00<?, ?it/s]"
      ]
     },
     "metadata": {},
     "output_type": "display_data"
    },
    {
     "data": {
      "application/vnd.jupyter.widget-view+json": {
       "model_id": "8f10185270764cd8be78f0f8bc4050ff",
       "version_major": 2,
       "version_minor": 0
      },
      "text/plain": [
       "Generate report structure:   0%|          | 0/1 [00:00<?, ?it/s]"
      ]
     },
     "metadata": {},
     "output_type": "display_data"
    },
    {
     "data": {
      "application/vnd.jupyter.widget-view+json": {
       "model_id": "",
       "version_major": 2,
       "version_minor": 0
      },
      "text/plain": [
       "Render widgets:   0%|          | 0/1 [00:00<?, ?it/s]"
      ]
     },
     "metadata": {},
     "output_type": "display_data"
    },
    {
     "data": {
      "application/vnd.jupyter.widget-view+json": {
       "model_id": "47f2d72585b44dc2be916e62d0ada537",
       "version_major": 2,
       "version_minor": 0
      },
      "text/plain": [
       "VBox(children=(Tab(children=(Tab(children=(GridBox(children=(VBox(children=(GridspecLayout(children=(HTML(valu…"
      ]
     },
     "metadata": {},
     "output_type": "display_data"
    }
   ],
   "source": [
    "pf2.to_widgets()"
   ]
  },
  {
   "cell_type": "code",
   "execution_count": null,
   "id": "bb037852",
   "metadata": {},
   "outputs": [],
   "source": [
    "df1 #variance of this dataset is not that high\n",
    "#as it is ranging between a lower scale\n"
   ]
  },
  {
   "cell_type": "code",
   "execution_count": null,
   "id": "86932d08",
   "metadata": {},
   "outputs": [],
   "source": [
    "df1.describe()\n",
    "#mean is close to 0 ie. e^-15\n",
    "#std is close to 1 -- e^0 =1\n",
    "#minimum maximum values is also not ranging ek dum upar niche \n"
   ]
  },
  {
   "cell_type": "code",
   "execution_count": null,
   "id": "f136680e",
   "metadata": {},
   "outputs": [],
   "source": [
    "arr"
   ]
  },
  {
   "cell_type": "code",
   "execution_count": 18,
   "id": "afd5b53a",
   "metadata": {},
   "outputs": [],
   "source": [
    "#check multicolinarity using VIF - variance inflation factor \n",
    "#will calculate variance inflatin factor ie. VIF for each factor or dataset column\n",
    "#variance_inflation_factor is a function here\n",
    "from statsmodels.stats.outliers_influence import variance_inflation_factor"
   ]
  },
  {
   "cell_type": "code",
   "execution_count": null,
   "id": "1d79fd36",
   "metadata": {},
   "outputs": [],
   "source": [
    "#idx== index\n",
    "variance_inflation_factor()"
   ]
  },
  {
   "cell_type": "code",
   "execution_count": null,
   "id": "a3772fd7",
   "metadata": {},
   "outputs": [],
   "source": [
    "arr"
   ]
  },
  {
   "cell_type": "code",
   "execution_count": null,
   "id": "21b2a2d5",
   "metadata": {},
   "outputs": [],
   "source": [
    "#500 records/rows in each column \n",
    "#number of columns =7\n",
    "#for 7 columns we'll find the VIF\n",
    "arr.shape"
   ]
  },
  {
   "cell_type": "code",
   "execution_count": null,
   "id": "1d2600fa",
   "metadata": {},
   "outputs": [],
   "source": [
    "arr.shape[0]"
   ]
  },
  {
   "cell_type": "code",
   "execution_count": null,
   "id": "809bd925",
   "metadata": {},
   "outputs": [],
   "source": [
    "arr.shape[1]"
   ]
  },
  {
   "cell_type": "code",
   "execution_count": null,
   "id": "586a5463",
   "metadata": {},
   "outputs": [],
   "source": [
    "range(7)"
   ]
  },
  {
   "cell_type": "code",
   "execution_count": 19,
   "id": "c24b1e3e",
   "metadata": {},
   "outputs": [
    {
     "name": "stdout",
     "output_type": "stream",
     "text": [
      "4.153267572225826\n",
      "3.792866110594647\n",
      "2.508768242278763\n",
      "2.7757495092534965\n",
      "2.037307662489752\n",
      "4.651669561154733\n",
      "1.4593106786827288\n"
     ]
    }
   ],
   "source": [
    "#it will iterate till 7 and give the VIF for each column \n",
    "for i in range(arr.shape[1]):\n",
    "    print(variance_inflation_factor(arr,i))\n",
    "    "
   ]
  },
  {
   "cell_type": "code",
   "execution_count": 20,
   "id": "2cab89ca",
   "metadata": {},
   "outputs": [
    {
     "ename": "SyntaxError",
     "evalue": "invalid syntax (<ipython-input-20-0c67d50754fe>, line 4)",
     "output_type": "error",
     "traceback": [
      "\u001b[1;36m  File \u001b[1;32m\"<ipython-input-20-0c67d50754fe>\"\u001b[1;36m, line \u001b[1;32m4\u001b[0m\n\u001b[1;33m    vif_df[\"\"[variance_inflation_factor(arr,i) for i in range(arr.shape[1])]\u001b[0m\n\u001b[1;37m                                               ^\u001b[0m\n\u001b[1;31mSyntaxError\u001b[0m\u001b[1;31m:\u001b[0m invalid syntax\n"
     ]
    }
   ],
   "source": [
    "# exog : an array containing features on which linear regression is performed.\n",
    "# exog_idx : index of the additional feature whose influence on the other features is to be measured.\n",
    "#calculationg VIF for each feature\n",
    "vif_df[\"\"[variance_inflation_factor(arr,i) for i in range(arr.shape[1])]"
   ]
  },
  {
   "cell_type": "code",
   "execution_count": 22,
   "id": "239c534f",
   "metadata": {},
   "outputs": [],
   "source": [
    "#vif_df is an empty dataframe \n",
    "vif_df = pd.DataFrame()"
   ]
  },
  {
   "cell_type": "code",
   "execution_count": 23,
   "id": "ba66491a",
   "metadata": {},
   "outputs": [],
   "source": [
    "#added one column vif in dataframe vif_df\n",
    "vif_df[\"vif\"] = [variance_inflation_factor(arr,i) for i in range(arr.shape[1])]"
   ]
  },
  {
   "cell_type": "code",
   "execution_count": 25,
   "id": "3cec2b98",
   "metadata": {},
   "outputs": [
    {
     "data": {
      "text/html": [
       "<div>\n",
       "<style scoped>\n",
       "    .dataframe tbody tr th:only-of-type {\n",
       "        vertical-align: middle;\n",
       "    }\n",
       "\n",
       "    .dataframe tbody tr th {\n",
       "        vertical-align: top;\n",
       "    }\n",
       "\n",
       "    .dataframe thead th {\n",
       "        text-align: right;\n",
       "    }\n",
       "</style>\n",
       "<table border=\"1\" class=\"dataframe\">\n",
       "  <thead>\n",
       "    <tr style=\"text-align: right;\">\n",
       "      <th></th>\n",
       "      <th>vif</th>\n",
       "      <th>features</th>\n",
       "    </tr>\n",
       "  </thead>\n",
       "  <tbody>\n",
       "    <tr>\n",
       "      <th>0</th>\n",
       "      <td>4.153268</td>\n",
       "      <td>GRE Score</td>\n",
       "    </tr>\n",
       "    <tr>\n",
       "      <th>1</th>\n",
       "      <td>3.792866</td>\n",
       "      <td>TOEFL Score</td>\n",
       "    </tr>\n",
       "    <tr>\n",
       "      <th>2</th>\n",
       "      <td>2.508768</td>\n",
       "      <td>University Rating</td>\n",
       "    </tr>\n",
       "    <tr>\n",
       "      <th>3</th>\n",
       "      <td>2.775750</td>\n",
       "      <td>SOP</td>\n",
       "    </tr>\n",
       "    <tr>\n",
       "      <th>4</th>\n",
       "      <td>2.037308</td>\n",
       "      <td>LOR</td>\n",
       "    </tr>\n",
       "    <tr>\n",
       "      <th>5</th>\n",
       "      <td>4.651670</td>\n",
       "      <td>CGPA</td>\n",
       "    </tr>\n",
       "    <tr>\n",
       "      <th>6</th>\n",
       "      <td>1.459311</td>\n",
       "      <td>Research</td>\n",
       "    </tr>\n",
       "  </tbody>\n",
       "</table>\n",
       "</div>"
      ],
      "text/plain": [
       "        vif           features\n",
       "0  4.153268          GRE Score\n",
       "1  3.792866        TOEFL Score\n",
       "2  2.508768  University Rating\n",
       "3  2.775750                SOP\n",
       "4  2.037308                LOR\n",
       "5  4.651670               CGPA\n",
       "6  1.459311           Research"
      ]
     },
     "execution_count": 25,
     "metadata": {},
     "output_type": "execute_result"
    }
   ],
   "source": [
    "vif_df"
   ]
  },
  {
   "cell_type": "code",
   "execution_count": null,
   "id": "b0ebed0d",
   "metadata": {},
   "outputs": [],
   "source": [
    "#adding one more column in dataframe vif_df"
   ]
  },
  {
   "cell_type": "code",
   "execution_count": null,
   "id": "6ec50339",
   "metadata": {},
   "outputs": [],
   "source": [
    "x"
   ]
  },
  {
   "cell_type": "code",
   "execution_count": null,
   "id": "5c79f1fa",
   "metadata": {},
   "outputs": [],
   "source": [
    "type(x)"
   ]
  },
  {
   "cell_type": "code",
   "execution_count": null,
   "id": "614bfc3e",
   "metadata": {},
   "outputs": [],
   "source": [
    "x.columns"
   ]
  },
  {
   "cell_type": "code",
   "execution_count": 24,
   "id": "cac17d18",
   "metadata": {},
   "outputs": [],
   "source": [
    "vif_df[\"features\"] = x.columns"
   ]
  },
  {
   "cell_type": "code",
   "execution_count": null,
   "id": "fb2600a5",
   "metadata": {},
   "outputs": [],
   "source": [
    "vif_df\n",
    "#vif score of each column is less than 10 -- not drop any column - not any dimension reduction technique\n",
    "#use array as it is"
   ]
  },
  {
   "cell_type": "code",
   "execution_count": null,
   "id": "f44a06cb",
   "metadata": {},
   "outputs": [],
   "source": [
    "#split dataset into two different areas-- train and test split\n",
    "#training data -- do training\n",
    "#test-- verify\n"
   ]
  },
  {
   "cell_type": "code",
   "execution_count": 33,
   "id": "91143d89",
   "metadata": {
    "scrolled": true
   },
   "outputs": [],
   "source": [
    "#arr is the dataset created after scaling our dataset -- applied normalisation\n",
    "#85% of data for my training and 25% for my testing purpose\n",
    "#arr is x- features ki values -- standardised wali\n",
    "x_train,x_test,y_train, y_test = train_test_split(arr, y, test_size= 0.25)"
   ]
  },
  {
   "cell_type": "code",
   "execution_count": 34,
   "id": "102b8545",
   "metadata": {},
   "outputs": [
    {
     "data": {
      "text/plain": [
       "array([[ 1.21170361e+00,  1.45770580e+00,  1.66568791e+00, ...,\n",
       "         1.09894429e+00,  1.29683885e+00,  8.86405260e-01],\n",
       "       [ 4.00369625e-01,  2.99778313e-01,  7.78905651e-01, ...,\n",
       "         5.58125251e-01,  9.16175040e-01,  8.86405260e-01],\n",
       "       [-5.03714802e-02, -1.96476326e-01, -9.94658860e-01, ...,\n",
       "         5.58125251e-01, -4.24423599e-01, -1.12815215e+00],\n",
       "       ...,\n",
       "       [ 4.90517846e-01,  4.65196526e-01, -1.07876604e-01, ...,\n",
       "         1.73062093e-02, -9.54042814e-01, -1.12815215e+00],\n",
       "       [ 3.10221404e-01,  4.65196526e-01,  1.66568791e+00, ...,\n",
       "         1.63976333e+00,  1.03202924e+00,  8.86405260e-01],\n",
       "       [-1.67303946e+00, -1.68524024e+00,  3.93810431e-16, ...,\n",
       "        -5.23512832e-01, -2.26154025e+00, -1.12815215e+00]])"
      ]
     },
     "execution_count": 34,
     "metadata": {},
     "output_type": "execute_result"
    }
   ],
   "source": [
    "x_train #dataset is changing -- it is splitting data in a random fashion \n",
    "#fixed random selection "
   ]
  },
  {
   "cell_type": "code",
   "execution_count": 37,
   "id": "bd3f8d77",
   "metadata": {},
   "outputs": [],
   "source": [
    "#if i give random_state= 345, the other person who has used the sme number the values will be exactly same \n",
    "#arr wo dataset hai features ka which is normalised/standardised\n",
    "#y/label variable is not normalised as thats not required -- we wana keep that intact \n",
    "x_train,x_test,y_train,y_test = train_test_split(arr,y,test_size = 0.25, random_state = 345)"
   ]
  },
  {
   "cell_type": "code",
   "execution_count": 38,
   "id": "ff654c7c",
   "metadata": {},
   "outputs": [
    {
     "data": {
      "text/plain": [
       "array([[-4.10964364e-01, -6.92730965e-01,  7.78905651e-01, ...,\n",
       "         1.63976333e+00, -2.42366993e-01, -1.12815215e+00],\n",
       "       [-1.67303946e+00, -1.02356739e+00,  7.78905651e-01, ...,\n",
       "         1.09894429e+00, -1.46711143e+00,  8.86405260e-01],\n",
       "       [-4.10964364e-01,  1.34360100e-01, -1.07876604e-01, ...,\n",
       "        -5.23512832e-01, -7.68609886e-02, -1.12815215e+00],\n",
       "       ...,\n",
       "       [ 4.90517846e-01,  1.29228759e+00,  1.66568791e+00, ...,\n",
       "         1.09894429e+00,  1.29683885e+00,  8.86405260e-01],\n",
       "       [-1.67303946e+00, -1.68524024e+00,  3.93810431e-16, ...,\n",
       "        -5.23512832e-01, -2.26154025e+00, -1.12815215e+00],\n",
       "       [ 1.75259294e+00,  1.95396044e+00,  1.66568791e+00, ...,\n",
       "         1.73062093e-02,  2.02506527e+00,  8.86405260e-01]])"
      ]
     },
     "execution_count": 38,
     "metadata": {},
     "output_type": "execute_result"
    }
   ],
   "source": [
    "#us standardised array mein se hi split kiya hai data bas \n",
    "x_train #it is fixed now- fixed randomness"
   ]
  },
  {
   "cell_type": "code",
   "execution_count": 39,
   "id": "a682ca8b",
   "metadata": {},
   "outputs": [],
   "source": [
    "lr = LinearRegression() #lr is a model"
   ]
  },
  {
   "cell_type": "code",
   "execution_count": 40,
   "id": "106cbf7a",
   "metadata": {},
   "outputs": [
    {
     "data": {
      "text/plain": [
       "LinearRegression()"
      ]
     },
     "execution_count": 40,
     "metadata": {},
     "output_type": "execute_result"
    }
   ],
   "source": [
    "lr.fit(x_train,y_train)"
   ]
  },
  {
   "cell_type": "code",
   "execution_count": 41,
   "id": "d1cda436",
   "metadata": {},
   "outputs": [],
   "source": [
    "import pickle"
   ]
  },
  {
   "cell_type": "code",
   "execution_count": 42,
   "id": "af793fb1",
   "metadata": {},
   "outputs": [],
   "source": [
    "pickle.dump(lr, open(\"admission_lr_model.pickle\", \"wb\")) #lr model we are supposed to dump\n",
    "#pickle,sav format -- binary format or serialised file format "
   ]
  },
  {
   "cell_type": "code",
   "execution_count": null,
   "id": "6206032d",
   "metadata": {},
   "outputs": [],
   "source": [
    "pickle.load(open(\"admission_lr_model\",\"rb\"))"
   ]
  },
  {
   "cell_type": "code",
   "execution_count": 46,
   "id": "16377b6f",
   "metadata": {},
   "outputs": [
    {
     "name": "stdout",
     "output_type": "stream",
     "text": [
      " Volume in drive C has no label.\n",
      " Volume Serial Number is 7AA3-19B5\n",
      "\n",
      " Directory of C:\\Users\\acer\\Desktop\\New folder\\Machine Learning Algorithms Lecture\n",
      "\n",
      "08/07/2022  09:38 PM    <DIR>          .\n",
      "08/07/2022  09:38 PM    <DIR>          ..\n",
      "08/07/2022  01:02 PM    <DIR>          .ipynb_checkpoints\n",
      "08/07/2022  09:36 PM               560 admission_lr_model.pickle\n",
      "08/07/2022  01:57 PM            16,085 Admission_Prediction.csv\n",
      "08/07/2022  02:01 PM         4,646,143 Admission_Prediction_1.html\n",
      "08/06/2022  07:34 PM           522,048 ai4i2020.csv\n",
      "08/07/2022  09:38 PM            65,700 Linear Regression.ipynb\n",
      "08/06/2022  09:11 PM               464 linear_model.sav\n",
      "08/06/2022  07:01 PM               493 linear_reg.sav\n",
      "08/07/2022  01:05 PM         1,265,057 test.html\n",
      "               8 File(s)      6,516,550 bytes\n",
      "               3 Dir(s)  10,261,266,432 bytes free\n"
     ]
    }
   ],
   "source": [
    "ls"
   ]
  },
  {
   "cell_type": "code",
   "execution_count": 52,
   "id": "c05a79bf",
   "metadata": {},
   "outputs": [
    {
     "data": {
      "text/plain": [
       "array([9.86354874])"
      ]
     },
     "execution_count": 52,
     "metadata": {},
     "output_type": "execute_result"
    }
   ],
   "source": [
    "lr.predict([[337.000000,118.0,4.0,4.5,4.5,9.65,1]]) #score is 9.86\\\n",
    "#chance of admit is between 0 and 1 but this cmes at 9.86\n",
    "#we have standardised our dataset ie. changed the whole range of the dataset\n",
    "#is lr model mein standardised wale hi input karne hai -- na ki original values\n"
   ]
  },
  {
   "cell_type": "code",
   "execution_count": 49,
   "id": "93f38730",
   "metadata": {},
   "outputs": [
    {
     "data": {
      "text/html": [
       "<div>\n",
       "<style scoped>\n",
       "    .dataframe tbody tr th:only-of-type {\n",
       "        vertical-align: middle;\n",
       "    }\n",
       "\n",
       "    .dataframe tbody tr th {\n",
       "        vertical-align: top;\n",
       "    }\n",
       "\n",
       "    .dataframe thead th {\n",
       "        text-align: right;\n",
       "    }\n",
       "</style>\n",
       "<table border=\"1\" class=\"dataframe\">\n",
       "  <thead>\n",
       "    <tr style=\"text-align: right;\">\n",
       "      <th></th>\n",
       "      <th>GRE Score</th>\n",
       "      <th>TOEFL Score</th>\n",
       "      <th>University Rating</th>\n",
       "      <th>SOP</th>\n",
       "      <th>LOR</th>\n",
       "      <th>CGPA</th>\n",
       "      <th>Research</th>\n",
       "      <th>Chance of Admit</th>\n",
       "    </tr>\n",
       "  </thead>\n",
       "  <tbody>\n",
       "    <tr>\n",
       "      <th>0</th>\n",
       "      <td>337.000000</td>\n",
       "      <td>118.0</td>\n",
       "      <td>4.0</td>\n",
       "      <td>4.5</td>\n",
       "      <td>4.5</td>\n",
       "      <td>9.65</td>\n",
       "      <td>1</td>\n",
       "      <td>0.92</td>\n",
       "    </tr>\n",
       "    <tr>\n",
       "      <th>1</th>\n",
       "      <td>324.000000</td>\n",
       "      <td>107.0</td>\n",
       "      <td>4.0</td>\n",
       "      <td>4.0</td>\n",
       "      <td>4.5</td>\n",
       "      <td>8.87</td>\n",
       "      <td>1</td>\n",
       "      <td>0.76</td>\n",
       "    </tr>\n",
       "    <tr>\n",
       "      <th>2</th>\n",
       "      <td>316.558763</td>\n",
       "      <td>104.0</td>\n",
       "      <td>3.0</td>\n",
       "      <td>3.0</td>\n",
       "      <td>3.5</td>\n",
       "      <td>8.00</td>\n",
       "      <td>1</td>\n",
       "      <td>0.72</td>\n",
       "    </tr>\n",
       "    <tr>\n",
       "      <th>3</th>\n",
       "      <td>322.000000</td>\n",
       "      <td>110.0</td>\n",
       "      <td>3.0</td>\n",
       "      <td>3.5</td>\n",
       "      <td>2.5</td>\n",
       "      <td>8.67</td>\n",
       "      <td>1</td>\n",
       "      <td>0.80</td>\n",
       "    </tr>\n",
       "    <tr>\n",
       "      <th>4</th>\n",
       "      <td>314.000000</td>\n",
       "      <td>103.0</td>\n",
       "      <td>2.0</td>\n",
       "      <td>2.0</td>\n",
       "      <td>3.0</td>\n",
       "      <td>8.21</td>\n",
       "      <td>0</td>\n",
       "      <td>0.65</td>\n",
       "    </tr>\n",
       "    <tr>\n",
       "      <th>...</th>\n",
       "      <td>...</td>\n",
       "      <td>...</td>\n",
       "      <td>...</td>\n",
       "      <td>...</td>\n",
       "      <td>...</td>\n",
       "      <td>...</td>\n",
       "      <td>...</td>\n",
       "      <td>...</td>\n",
       "    </tr>\n",
       "    <tr>\n",
       "      <th>495</th>\n",
       "      <td>332.000000</td>\n",
       "      <td>108.0</td>\n",
       "      <td>5.0</td>\n",
       "      <td>4.5</td>\n",
       "      <td>4.0</td>\n",
       "      <td>9.02</td>\n",
       "      <td>1</td>\n",
       "      <td>0.87</td>\n",
       "    </tr>\n",
       "    <tr>\n",
       "      <th>496</th>\n",
       "      <td>337.000000</td>\n",
       "      <td>117.0</td>\n",
       "      <td>5.0</td>\n",
       "      <td>5.0</td>\n",
       "      <td>5.0</td>\n",
       "      <td>9.87</td>\n",
       "      <td>1</td>\n",
       "      <td>0.96</td>\n",
       "    </tr>\n",
       "    <tr>\n",
       "      <th>497</th>\n",
       "      <td>330.000000</td>\n",
       "      <td>120.0</td>\n",
       "      <td>5.0</td>\n",
       "      <td>4.5</td>\n",
       "      <td>5.0</td>\n",
       "      <td>9.56</td>\n",
       "      <td>1</td>\n",
       "      <td>0.93</td>\n",
       "    </tr>\n",
       "    <tr>\n",
       "      <th>498</th>\n",
       "      <td>312.000000</td>\n",
       "      <td>103.0</td>\n",
       "      <td>4.0</td>\n",
       "      <td>4.0</td>\n",
       "      <td>5.0</td>\n",
       "      <td>8.43</td>\n",
       "      <td>0</td>\n",
       "      <td>0.73</td>\n",
       "    </tr>\n",
       "    <tr>\n",
       "      <th>499</th>\n",
       "      <td>327.000000</td>\n",
       "      <td>113.0</td>\n",
       "      <td>4.0</td>\n",
       "      <td>4.5</td>\n",
       "      <td>4.5</td>\n",
       "      <td>9.04</td>\n",
       "      <td>0</td>\n",
       "      <td>0.84</td>\n",
       "    </tr>\n",
       "  </tbody>\n",
       "</table>\n",
       "<p>500 rows × 8 columns</p>\n",
       "</div>"
      ],
      "text/plain": [
       "      GRE Score  TOEFL Score  University Rating  SOP  LOR  CGPA  Research  \\\n",
       "0    337.000000        118.0                4.0  4.5  4.5  9.65         1   \n",
       "1    324.000000        107.0                4.0  4.0  4.5  8.87         1   \n",
       "2    316.558763        104.0                3.0  3.0  3.5  8.00         1   \n",
       "3    322.000000        110.0                3.0  3.5  2.5  8.67         1   \n",
       "4    314.000000        103.0                2.0  2.0  3.0  8.21         0   \n",
       "..          ...          ...                ...  ...  ...   ...       ...   \n",
       "495  332.000000        108.0                5.0  4.5  4.0  9.02         1   \n",
       "496  337.000000        117.0                5.0  5.0  5.0  9.87         1   \n",
       "497  330.000000        120.0                5.0  4.5  5.0  9.56         1   \n",
       "498  312.000000        103.0                4.0  4.0  5.0  8.43         0   \n",
       "499  327.000000        113.0                4.0  4.5  4.5  9.04         0   \n",
       "\n",
       "     Chance of Admit  \n",
       "0               0.92  \n",
       "1               0.76  \n",
       "2               0.72  \n",
       "3               0.80  \n",
       "4               0.65  \n",
       "..               ...  \n",
       "495             0.87  \n",
       "496             0.96  \n",
       "497             0.93  \n",
       "498             0.73  \n",
       "499             0.84  \n",
       "\n",
       "[500 rows x 8 columns]"
      ]
     },
     "execution_count": 49,
     "metadata": {},
     "output_type": "execute_result"
    }
   ],
   "source": [
    "df"
   ]
  },
  {
   "cell_type": "code",
   "execution_count": 55,
   "id": "2fbb0427",
   "metadata": {},
   "outputs": [],
   "source": [
    "#scaler object that was created earlier for normalisation\n",
    "#pass original data and it will normalise it \n",
    "test1 = scaler.transform([[337.000000,118.0,4.0,4.5,4.5,9.65,1]])"
   ]
  },
  {
   "cell_type": "code",
   "execution_count": 54,
   "id": "f6756c9f",
   "metadata": {},
   "outputs": [
    {
     "data": {
      "text/plain": [
       "array([0.95377928])"
      ]
     },
     "execution_count": 54,
     "metadata": {},
     "output_type": "execute_result"
    }
   ],
   "source": [
    "#prediction kar rhe hai from an object of linearRegression\n",
    "lr.predict([[1.84274116, 1.78854223, 0.77890565, 1.13735981, 1.09894429,1.77680627, 0.88640526]])\n",
    "#getting approx chance of admit close result "
   ]
  },
  {
   "cell_type": "code",
   "execution_count": 59,
   "id": "73f26ef7",
   "metadata": {},
   "outputs": [],
   "source": [
    "test2= scaler.transform([[324.000000,107.0,4.0,4.0,4.5,8.87,1]])"
   ]
  },
  {
   "cell_type": "code",
   "execution_count": 60,
   "id": "f24f2169",
   "metadata": {},
   "outputs": [
    {
     "data": {
      "text/plain": [
       "array([[ 0.67081429, -0.03105811,  0.77890565,  0.63231549,  1.09894429,\n",
       "         0.48585943,  0.88640526]])"
      ]
     },
     "execution_count": 60,
     "metadata": {},
     "output_type": "execute_result"
    }
   ],
   "source": [
    "test2"
   ]
  },
  {
   "cell_type": "code",
   "execution_count": 62,
   "id": "9f46ace4",
   "metadata": {},
   "outputs": [
    {
     "data": {
      "text/plain": [
       "array([0.80990721])"
      ]
     },
     "execution_count": 62,
     "metadata": {},
     "output_type": "execute_result"
    }
   ],
   "source": [
    "lr.predict([[ 0.67081429, -0.03105811,  0.77890565,  0.63231549,  1.09894429,\n",
    "         0.48585943,  0.88640526]])\n",
    "#answer-- chance of admit is close to th expectation of 0.76"
   ]
  },
  {
   "cell_type": "code",
   "execution_count": 68,
   "id": "8057cc48",
   "metadata": {},
   "outputs": [],
   "source": [
    "#trying to read a physical file in my system \n",
    "#prediction kar rhe hai from a stored file \n",
    "model = pickle.load(open(\"admission_lr_model.pickle\",\"rb\"))"
   ]
  },
  {
   "cell_type": "code",
   "execution_count": 69,
   "id": "0bd78e77",
   "metadata": {},
   "outputs": [
    {
     "data": {
      "text/plain": [
       "array([0.95377928])"
      ]
     },
     "execution_count": 69,
     "metadata": {},
     "output_type": "execute_result"
    }
   ],
   "source": [
    "model.predict(test1)"
   ]
  },
  {
   "cell_type": "code",
   "execution_count": 72,
   "id": "8103e9e9",
   "metadata": {},
   "outputs": [
    {
     "data": {
      "text/plain": [
       "0.7476466381844958"
      ]
     },
     "execution_count": 72,
     "metadata": {},
     "output_type": "execute_result"
    }
   ],
   "source": [
    "#not giving x_train and y_train coz these two datasets have already learned \n",
    "# now we should give an unknow dataset to check the real accuarcy which model has not seen yet\n",
    "lr.score(x_test,y_test)\n",
    "#r^2 "
   ]
  },
  {
   "cell_type": "code",
   "execution_count": null,
   "id": "30ce983d",
   "metadata": {},
   "outputs": [],
   "source": [
    "#we have created 25% of the dataset for testing purpose \n",
    "x_test"
   ]
  },
  {
   "cell_type": "code",
   "execution_count": null,
   "id": "a34c7aec",
   "metadata": {},
   "outputs": [],
   "source": [
    "y_test"
   ]
  },
  {
   "cell_type": "code",
   "execution_count": 80,
   "id": "1aa3b6bb",
   "metadata": {},
   "outputs": [],
   "source": [
    "#creating a function for adjusted R-squared\n",
    "def adjR2(x,y):\n",
    "    r2= lr.score(x,y)\n",
    "    n=x.shape[0] #number of rows/records in dataset\n",
    "    p=x.shape[1] #number of features/predictors\n",
    "    adjusted_r2 = 1-((1-r2)*(n-1)/(n-p-1))\n",
    "    return(adjusted_r2)\n",
    "    \n",
    "    #The value that is returned by a function  used as an argument passed to another function, \n",
    "    #stored as a variable, or just printed for the benefit of the human user.\n"
   ]
  },
  {
   "cell_type": "code",
   "execution_count": 74,
   "id": "5e512276",
   "metadata": {},
   "outputs": [
    {
     "data": {
      "text/plain": [
       "125"
      ]
     },
     "execution_count": 74,
     "metadata": {},
     "output_type": "execute_result"
    }
   ],
   "source": [
    "#shape is in case of numpy-- array ke sath mein\n",
    "x_test.shape[0] #no. of rows in this array"
   ]
  },
  {
   "cell_type": "code",
   "execution_count": 75,
   "id": "612914ef",
   "metadata": {},
   "outputs": [
    {
     "data": {
      "text/plain": [
       "7"
      ]
     },
     "execution_count": 75,
     "metadata": {},
     "output_type": "execute_result"
    }
   ],
   "source": [
    "x_test.shape[1] #no. of columns in this array"
   ]
  },
  {
   "cell_type": "code",
   "execution_count": 81,
   "id": "b901aaba",
   "metadata": {},
   "outputs": [
    {
     "data": {
      "text/plain": [
       "0.7325485738023716"
      ]
     },
     "execution_count": 81,
     "metadata": {},
     "output_type": "execute_result"
    }
   ],
   "source": [
    "adjR2(x_test,y_test) #actual accuarxy - 73.25%"
   ]
  },
  {
   "cell_type": "code",
   "execution_count": 92,
   "id": "c4a85046",
   "metadata": {},
   "outputs": [],
   "source": [
    "#to increase the accuarcy change the random_state\n",
    "#see this order -- it will be x_train,x_test and then y_train, y_test\n",
    "# x_train and x_test needs to be in array and y_train and y_test would be in series -- \n",
    "#x_train,y_train,x_test,y_test = train_test_split(arr,y, test_size = 0.25, random_state= 100)\n",
    "\n",
    "x_train,x_test,y_train,y_test= train_test_split(arr,y,test_size=0.25,random_state=100)"
   ]
  },
  {
   "cell_type": "code",
   "execution_count": 93,
   "id": "38ec0bf3",
   "metadata": {},
   "outputs": [
    {
     "data": {
      "text/plain": [
       "array([[-0.41096436, -0.52731275, -0.1078766 , ...,  0.01730621,\n",
       "        -0.25891759, -1.12815215],\n",
       "       [ 0.12992496, -0.19647633, -0.1078766 , ..., -0.52351283,\n",
       "         0.12174622, -1.12815215],\n",
       "       [-1.13215013, -1.02356739, -0.99465886, ..., -1.06433187,\n",
       "        -1.51676323, -1.12815215],\n",
       "       ...,\n",
       "       [-1.04200191, -0.85814918, -0.99465886, ..., -1.06433187,\n",
       "        -0.65613201, -1.12815215],\n",
       "       [-0.50111259, -0.85814918, -0.1078766 , ...,  0.55812525,\n",
       "         0.10519562,  0.88640526],\n",
       "       [-1.31244657, -0.85814918, -1.88144112, ..., -2.14596996,\n",
       "        -0.95404281, -1.12815215]])"
      ]
     },
     "execution_count": 93,
     "metadata": {},
     "output_type": "execute_result"
    }
   ],
   "source": [
    "x_train"
   ]
  },
  {
   "cell_type": "code",
   "execution_count": 86,
   "id": "ee6b598c",
   "metadata": {},
   "outputs": [
    {
     "data": {
      "text/html": [
       "<div>\n",
       "<style scoped>\n",
       "    .dataframe tbody tr th:only-of-type {\n",
       "        vertical-align: middle;\n",
       "    }\n",
       "\n",
       "    .dataframe tbody tr th {\n",
       "        vertical-align: top;\n",
       "    }\n",
       "\n",
       "    .dataframe thead th {\n",
       "        text-align: right;\n",
       "    }\n",
       "</style>\n",
       "<table border=\"1\" class=\"dataframe\">\n",
       "  <thead>\n",
       "    <tr style=\"text-align: right;\">\n",
       "      <th></th>\n",
       "      <th>GRE Score</th>\n",
       "      <th>TOEFL Score</th>\n",
       "      <th>University Rating</th>\n",
       "      <th>SOP</th>\n",
       "      <th>LOR</th>\n",
       "      <th>CGPA</th>\n",
       "      <th>Research</th>\n",
       "      <th>Chance of Admit</th>\n",
       "    </tr>\n",
       "  </thead>\n",
       "  <tbody>\n",
       "    <tr>\n",
       "      <th>0</th>\n",
       "      <td>337.000000</td>\n",
       "      <td>118.0</td>\n",
       "      <td>4.0</td>\n",
       "      <td>4.5</td>\n",
       "      <td>4.5</td>\n",
       "      <td>9.65</td>\n",
       "      <td>1</td>\n",
       "      <td>0.92</td>\n",
       "    </tr>\n",
       "    <tr>\n",
       "      <th>1</th>\n",
       "      <td>324.000000</td>\n",
       "      <td>107.0</td>\n",
       "      <td>4.0</td>\n",
       "      <td>4.0</td>\n",
       "      <td>4.5</td>\n",
       "      <td>8.87</td>\n",
       "      <td>1</td>\n",
       "      <td>0.76</td>\n",
       "    </tr>\n",
       "    <tr>\n",
       "      <th>2</th>\n",
       "      <td>316.558763</td>\n",
       "      <td>104.0</td>\n",
       "      <td>3.0</td>\n",
       "      <td>3.0</td>\n",
       "      <td>3.5</td>\n",
       "      <td>8.00</td>\n",
       "      <td>1</td>\n",
       "      <td>0.72</td>\n",
       "    </tr>\n",
       "    <tr>\n",
       "      <th>3</th>\n",
       "      <td>322.000000</td>\n",
       "      <td>110.0</td>\n",
       "      <td>3.0</td>\n",
       "      <td>3.5</td>\n",
       "      <td>2.5</td>\n",
       "      <td>8.67</td>\n",
       "      <td>1</td>\n",
       "      <td>0.80</td>\n",
       "    </tr>\n",
       "    <tr>\n",
       "      <th>4</th>\n",
       "      <td>314.000000</td>\n",
       "      <td>103.0</td>\n",
       "      <td>2.0</td>\n",
       "      <td>2.0</td>\n",
       "      <td>3.0</td>\n",
       "      <td>8.21</td>\n",
       "      <td>0</td>\n",
       "      <td>0.65</td>\n",
       "    </tr>\n",
       "    <tr>\n",
       "      <th>...</th>\n",
       "      <td>...</td>\n",
       "      <td>...</td>\n",
       "      <td>...</td>\n",
       "      <td>...</td>\n",
       "      <td>...</td>\n",
       "      <td>...</td>\n",
       "      <td>...</td>\n",
       "      <td>...</td>\n",
       "    </tr>\n",
       "    <tr>\n",
       "      <th>495</th>\n",
       "      <td>332.000000</td>\n",
       "      <td>108.0</td>\n",
       "      <td>5.0</td>\n",
       "      <td>4.5</td>\n",
       "      <td>4.0</td>\n",
       "      <td>9.02</td>\n",
       "      <td>1</td>\n",
       "      <td>0.87</td>\n",
       "    </tr>\n",
       "    <tr>\n",
       "      <th>496</th>\n",
       "      <td>337.000000</td>\n",
       "      <td>117.0</td>\n",
       "      <td>5.0</td>\n",
       "      <td>5.0</td>\n",
       "      <td>5.0</td>\n",
       "      <td>9.87</td>\n",
       "      <td>1</td>\n",
       "      <td>0.96</td>\n",
       "    </tr>\n",
       "    <tr>\n",
       "      <th>497</th>\n",
       "      <td>330.000000</td>\n",
       "      <td>120.0</td>\n",
       "      <td>5.0</td>\n",
       "      <td>4.5</td>\n",
       "      <td>5.0</td>\n",
       "      <td>9.56</td>\n",
       "      <td>1</td>\n",
       "      <td>0.93</td>\n",
       "    </tr>\n",
       "    <tr>\n",
       "      <th>498</th>\n",
       "      <td>312.000000</td>\n",
       "      <td>103.0</td>\n",
       "      <td>4.0</td>\n",
       "      <td>4.0</td>\n",
       "      <td>5.0</td>\n",
       "      <td>8.43</td>\n",
       "      <td>0</td>\n",
       "      <td>0.73</td>\n",
       "    </tr>\n",
       "    <tr>\n",
       "      <th>499</th>\n",
       "      <td>327.000000</td>\n",
       "      <td>113.0</td>\n",
       "      <td>4.0</td>\n",
       "      <td>4.5</td>\n",
       "      <td>4.5</td>\n",
       "      <td>9.04</td>\n",
       "      <td>0</td>\n",
       "      <td>0.84</td>\n",
       "    </tr>\n",
       "  </tbody>\n",
       "</table>\n",
       "<p>500 rows × 8 columns</p>\n",
       "</div>"
      ],
      "text/plain": [
       "      GRE Score  TOEFL Score  University Rating  SOP  LOR  CGPA  Research  \\\n",
       "0    337.000000        118.0                4.0  4.5  4.5  9.65         1   \n",
       "1    324.000000        107.0                4.0  4.0  4.5  8.87         1   \n",
       "2    316.558763        104.0                3.0  3.0  3.5  8.00         1   \n",
       "3    322.000000        110.0                3.0  3.5  2.5  8.67         1   \n",
       "4    314.000000        103.0                2.0  2.0  3.0  8.21         0   \n",
       "..          ...          ...                ...  ...  ...   ...       ...   \n",
       "495  332.000000        108.0                5.0  4.5  4.0  9.02         1   \n",
       "496  337.000000        117.0                5.0  5.0  5.0  9.87         1   \n",
       "497  330.000000        120.0                5.0  4.5  5.0  9.56         1   \n",
       "498  312.000000        103.0                4.0  4.0  5.0  8.43         0   \n",
       "499  327.000000        113.0                4.0  4.5  4.5  9.04         0   \n",
       "\n",
       "     Chance of Admit  \n",
       "0               0.92  \n",
       "1               0.76  \n",
       "2               0.72  \n",
       "3               0.80  \n",
       "4               0.65  \n",
       "..               ...  \n",
       "495             0.87  \n",
       "496             0.96  \n",
       "497             0.93  \n",
       "498             0.73  \n",
       "499             0.84  \n",
       "\n",
       "[500 rows x 8 columns]"
      ]
     },
     "execution_count": 86,
     "metadata": {},
     "output_type": "execute_result"
    }
   ],
   "source": [
    "df"
   ]
  },
  {
   "cell_type": "code",
   "execution_count": 94,
   "id": "f6c6fe26",
   "metadata": {},
   "outputs": [],
   "source": [
    "test3= scaler.transform([[337.000000,118.0,4.0,4.5,4.5,9.65,1]])"
   ]
  },
  {
   "cell_type": "code",
   "execution_count": 95,
   "id": "c6574208",
   "metadata": {},
   "outputs": [
    {
     "data": {
      "text/plain": [
       "array([[1.84274116, 1.78854223, 0.77890565, 1.13735981, 1.09894429,\n",
       "        1.77680627, 0.88640526]])"
      ]
     },
     "execution_count": 95,
     "metadata": {},
     "output_type": "execute_result"
    }
   ],
   "source": [
    "test3"
   ]
  },
  {
   "cell_type": "code",
   "execution_count": 96,
   "id": "e5e72c6d",
   "metadata": {},
   "outputs": [
    {
     "data": {
      "text/plain": [
       "array([0.95377928])"
      ]
     },
     "execution_count": 96,
     "metadata": {},
     "output_type": "execute_result"
    }
   ],
   "source": [
    "lr.predict([[1.84274116, 1.78854223, 0.77890565, 1.13735981, 1.09894429,\n",
    "        1.77680627, 0.88640526]])"
   ]
  },
  {
   "cell_type": "code",
   "execution_count": 98,
   "id": "a8c6c6c1",
   "metadata": {},
   "outputs": [
    {
     "data": {
      "text/plain": [
       "0.831886769147379"
      ]
     },
     "execution_count": 98,
     "metadata": {},
     "output_type": "execute_result"
    }
   ],
   "source": [
    "lr.score(x_test,y_test) #here it expects x input to be in 2d, whereas y input can be in series"
   ]
  },
  {
   "cell_type": "code",
   "execution_count": 101,
   "id": "0601a4b5",
   "metadata": {},
   "outputs": [
    {
     "data": {
      "text/plain": [
       "0.8218287126006409"
      ]
     },
     "execution_count": 101,
     "metadata": {},
     "output_type": "execute_result"
    }
   ],
   "source": [
    "#adjusted r2 is a better metric than r2 and here its value is slightly less than r2 value\n",
    "#true score which is adjusted r2\n",
    "adjR2(x_test,y_test)"
   ]
  },
  {
   "cell_type": "code",
   "execution_count": null,
   "id": "130da173",
   "metadata": {},
   "outputs": [],
   "source": [
    "######changing the test_size and then checking the accuracy############"
   ]
  },
  {
   "cell_type": "code",
   "execution_count": 102,
   "id": "543c22b2",
   "metadata": {},
   "outputs": [],
   "source": [
    "x_train,x_test,y_train,y_test= train_test_split(arr,y,test_size = 0.15,random_state=100)"
   ]
  },
  {
   "cell_type": "code",
   "execution_count": 103,
   "id": "2070bb37",
   "metadata": {},
   "outputs": [],
   "source": [
    "test5= scaler.transform([[337.000000,118.0,4.0,4.5,4.5,9.65,1]])"
   ]
  },
  {
   "cell_type": "code",
   "execution_count": 104,
   "id": "65c1d676",
   "metadata": {},
   "outputs": [
    {
     "data": {
      "text/plain": [
       "array([[1.84274116, 1.78854223, 0.77890565, 1.13735981, 1.09894429,\n",
       "        1.77680627, 0.88640526]])"
      ]
     },
     "execution_count": 104,
     "metadata": {},
     "output_type": "execute_result"
    }
   ],
   "source": [
    "test5"
   ]
  },
  {
   "cell_type": "code",
   "execution_count": 106,
   "id": "0a34e1af",
   "metadata": {},
   "outputs": [
    {
     "data": {
      "text/plain": [
       "array([0.95377928])"
      ]
     },
     "execution_count": 106,
     "metadata": {},
     "output_type": "execute_result"
    }
   ],
   "source": [
    "lr.predict([[1.84274116, 1.78854223, 0.77890565, 1.13735981, 1.09894429,\n",
    "        1.77680627, 0.88640526]])"
   ]
  },
  {
   "cell_type": "code",
   "execution_count": 107,
   "id": "73a4beba",
   "metadata": {},
   "outputs": [
    {
     "data": {
      "text/plain": [
       "0.846485169882467"
      ]
     },
     "execution_count": 107,
     "metadata": {},
     "output_type": "execute_result"
    }
   ],
   "source": [
    "lr.score(x_test,y_test)"
   ]
  },
  {
   "cell_type": "code",
   "execution_count": 108,
   "id": "ad3867b0",
   "metadata": {},
   "outputs": [
    {
     "data": {
      "text/plain": [
       "0.8304463070343666"
      ]
     },
     "execution_count": 108,
     "metadata": {},
     "output_type": "execute_result"
    }
   ],
   "source": [
    "adjR2(x_test,y_test)"
   ]
  },
  {
   "cell_type": "code",
   "execution_count": 109,
   "id": "8f9e4c4f",
   "metadata": {},
   "outputs": [
    {
     "data": {
      "text/plain": [
       "array([0.02006269, 0.01295679, 0.00978097, 0.00451013, 0.01626859,\n",
       "       0.07320679, 0.01332327])"
      ]
     },
     "execution_count": 109,
     "metadata": {},
     "output_type": "execute_result"
    }
   ],
   "source": [
    "#equation of the model\n",
    "lr.coef_ #m"
   ]
  },
  {
   "cell_type": "code",
   "execution_count": 110,
   "id": "8654a03c",
   "metadata": {},
   "outputs": [
    {
     "data": {
      "text/plain": [
       "0.7211247125498041"
      ]
     },
     "execution_count": 110,
     "metadata": {},
     "output_type": "execute_result"
    }
   ],
   "source": [
    "lr.intercept_ #c"
   ]
  },
  {
   "cell_type": "code",
   "execution_count": null,
   "id": "5c9708bf",
   "metadata": {},
   "outputs": [],
   "source": [
    "#linear regression model hai \n",
    "#nt using plane simple linear regression\n",
    "#using simple linear regression+lasso"
   ]
  },
  {
   "cell_type": "code",
   "execution_count": 135,
   "id": "d054c810",
   "metadata": {},
   "outputs": [],
   "source": [
    "#normalising the dataset even tho it is normalised but just for the additionl effect --\n",
    "#maximum iteration s= 2 lakh\n",
    "#CV = cross validatio  -- tecnhnique used to find best possinle parameter \n",
    "#cv=10 -- diving the dataset into 10 chunks \n",
    "#49 datasets it is taking for training purpose and 1 dataset for testing purpose in random fashion\n",
    "#finding hyperparameter for our model \n",
    "\n",
    "# https://www.kirenz.com/post/2019-08-12-python-lasso-regression-auto/"
   ]
  },
  {
   "cell_type": "code",
   "execution_count": 153,
   "id": "b1c73aa4",
   "metadata": {},
   "outputs": [],
   "source": [
    "#Lasso with optimal alpha \n",
    "#Best model is selected by cross-validation used for hyper-tuning\n",
    "model = LassoCV(alphas=None, cv=50,max_iter=2000000,normalize=True)"
   ]
  },
  {
   "cell_type": "code",
   "execution_count": 155,
   "id": "1386050a",
   "metadata": {},
   "outputs": [
    {
     "data": {
      "text/plain": [
       "LassoCV(cv=50, max_iter=2000000, normalize=True)"
      ]
     },
     "execution_count": 155,
     "metadata": {},
     "output_type": "execute_result"
    }
   ],
   "source": [
    "#Lasso Regression is an extension of linear regression that adds a \n",
    "#regularization penalty to the loss function during training\n",
    "\n",
    "#Fit the model \n",
    "model.fit(x_train,y_train)"
   ]
  },
  {
   "cell_type": "code",
   "execution_count": 157,
   "id": "103c4a55",
   "metadata": {},
   "outputs": [
    {
     "data": {
      "text/plain": [
       "3.65639233366671e-05"
      ]
     },
     "execution_count": 157,
     "metadata": {},
     "output_type": "execute_result"
    }
   ],
   "source": [
    "#shows best value of penalisation chosen by cross validation\n",
    "#finding the parameter\n",
    "model.alpha_"
   ]
  },
  {
   "cell_type": "code",
   "execution_count": 159,
   "id": "23543e2c",
   "metadata": {},
   "outputs": [
    {
     "data": {
      "text/plain": [
       "Lasso(alpha=3.65639233366671e-05)"
      ]
     },
     "execution_count": 159,
     "metadata": {},
     "output_type": "execute_result"
    }
   ],
   "source": [
    "#best model -- use best value for our final model -- best value is the one\n",
    "#we got after cross validation\n",
    "lasso_best = Lasso(alpha= model.alpha_)\n",
    "lasso_best"
   ]
  },
  {
   "cell_type": "code",
   "execution_count": 160,
   "id": "2caa2db5",
   "metadata": {},
   "outputs": [
    {
     "data": {
      "text/plain": [
       "Lasso(alpha=3.65639233366671e-05)"
      ]
     },
     "execution_count": 160,
     "metadata": {},
     "output_type": "execute_result"
    }
   ],
   "source": [
    "#lasso model we are using -- instead of simple linear regression model\n",
    "lasso_best.fit(x_train,y_train)"
   ]
  },
  {
   "cell_type": "code",
   "execution_count": 162,
   "id": "f43684b7",
   "metadata": {},
   "outputs": [
    {
     "data": {
      "text/plain": [
       "0.8421103469011295"
      ]
     },
     "execution_count": 162,
     "metadata": {},
     "output_type": "execute_result"
    }
   ],
   "source": [
    "#accuaracy -- it is found using test data - the unknow data \n",
    "lasso_best.score(x_test,y_test)"
   ]
  },
  {
   "cell_type": "code",
   "execution_count": null,
   "id": "bcd46bb1",
   "metadata": {},
   "outputs": [],
   "source": [
    "###############RIDGE REGRESSION##################"
   ]
  },
  {
   "cell_type": "code",
   "execution_count": 163,
   "id": "2a3534a3",
   "metadata": {},
   "outputs": [],
   "source": [
    "from sklearn.linear_model import RidgeCV"
   ]
  },
  {
   "cell_type": "code",
   "execution_count": 168,
   "id": "97c992e6",
   "metadata": {},
   "outputs": [
    {
     "data": {
      "text/plain": [
       "RidgeCV(alphas=array([ 0.1,  1. , 10. ]), cv=10, normalize=True)"
      ]
     },
     "execution_count": 168,
     "metadata": {},
     "output_type": "execute_result"
    }
   ],
   "source": [
    "#select alpha frm these given numbers \n",
    "#alpha and lambda are same \n",
    "\n",
    "ridgecv =RidgeCV(alphas=(0.1,1.0,10.0), cv=10,normalize=True)#ridgecv object we created\n",
    "ridgecv"
   ]
  },
  {
   "cell_type": "code",
   "execution_count": 171,
   "id": "1ecf9ff1",
   "metadata": {},
   "outputs": [
    {
     "data": {
      "text/plain": [
       "array([1.20204041, 9.73344066, 3.18844593, 2.49785385, 5.61548177,\n",
       "       7.02135109, 8.66232484, 7.62776907, 9.43096903, 2.21268134,\n",
       "       9.18733813, 6.80100597, 4.30479414, 9.61344811, 6.59139058,\n",
       "       3.13568602, 7.14877033, 4.10387476, 8.10824438, 4.94487349,\n",
       "       4.05258456, 2.99111311, 7.55508134, 4.41325668, 4.67239958,\n",
       "       7.5594733 , 0.9214254 , 8.14373367, 7.10269001, 6.43057921,\n",
       "       3.49167458, 3.40236389, 8.13253039, 5.68134528, 4.51263047,\n",
       "       4.30348278, 5.59117104, 0.78799402, 4.95140278, 3.74973561,\n",
       "       9.66062306, 7.44577092, 1.78517294, 1.02810652, 0.78449356,\n",
       "       2.46124128, 7.73310521, 0.34373145, 7.5599669 , 4.60718521])"
      ]
     },
     "execution_count": 171,
     "metadata": {},
     "output_type": "execute_result"
    }
   ],
   "source": [
    "#give higher range - hyper parameter - give high range value of alpha\n",
    "#using numpy libray generate 50 numbers between 0 to 10\n",
    "\n",
    "np.random.uniform(0,10,50)"
   ]
  },
  {
   "cell_type": "code",
   "execution_count": 172,
   "id": "6673e315",
   "metadata": {},
   "outputs": [],
   "source": [
    "ridgecv = RidgeCV(alphas= np.random.uniform(0,10,50),cv=10,normalize= True)"
   ]
  },
  {
   "cell_type": "code",
   "execution_count": 173,
   "id": "56c1d26c",
   "metadata": {},
   "outputs": [
    {
     "data": {
      "text/plain": [
       "RidgeCV(alphas=array([5.49016077e+00, 5.41467169e+00, 9.23812435e+00, 6.53644362e+00,\n",
       "       8.96408702e+00, 8.40739254e-03, 3.23513866e+00, 5.98217326e+00,\n",
       "       7.29234498e+00, 5.51142749e+00, 2.24793061e+00, 3.33160154e+00,\n",
       "       9.56784882e+00, 5.92625297e+00, 4.59130468e+00, 6.43660879e+00,\n",
       "       3.98363288e+00, 4.38666737e+00, 9.83276622e+00, 9.43589781e+00,\n",
       "       2.82991444e+00, 4.48898536e+0...\n",
       "       7.65815351e+00, 6.92209934e+00, 4.79857139e-01, 6.51067112e+00,\n",
       "       3.59638557e+00, 4.70389623e+00, 8.97458300e+00, 9.34182752e+00,\n",
       "       1.74639106e+00, 6.54674637e+00, 2.02945628e+00, 4.47207910e+00,\n",
       "       8.36562768e+00, 7.39975423e+00, 1.31851381e+00, 2.76950725e+00,\n",
       "       3.86896659e+00, 3.22895282e+00, 7.62328864e+00, 7.24154845e+00,\n",
       "       8.50297252e+00, 3.18828771e+00]),\n",
       "        cv=10, normalize=True)"
      ]
     },
     "execution_count": 173,
     "metadata": {},
     "output_type": "execute_result"
    }
   ],
   "source": [
    "ridgecv"
   ]
  },
  {
   "cell_type": "code",
   "execution_count": 174,
   "id": "b95e492b",
   "metadata": {},
   "outputs": [
    {
     "data": {
      "text/plain": [
       "RidgeCV(alphas=array([5.49016077e+00, 5.41467169e+00, 9.23812435e+00, 6.53644362e+00,\n",
       "       8.96408702e+00, 8.40739254e-03, 3.23513866e+00, 5.98217326e+00,\n",
       "       7.29234498e+00, 5.51142749e+00, 2.24793061e+00, 3.33160154e+00,\n",
       "       9.56784882e+00, 5.92625297e+00, 4.59130468e+00, 6.43660879e+00,\n",
       "       3.98363288e+00, 4.38666737e+00, 9.83276622e+00, 9.43589781e+00,\n",
       "       2.82991444e+00, 4.48898536e+0...\n",
       "       7.65815351e+00, 6.92209934e+00, 4.79857139e-01, 6.51067112e+00,\n",
       "       3.59638557e+00, 4.70389623e+00, 8.97458300e+00, 9.34182752e+00,\n",
       "       1.74639106e+00, 6.54674637e+00, 2.02945628e+00, 4.47207910e+00,\n",
       "       8.36562768e+00, 7.39975423e+00, 1.31851381e+00, 2.76950725e+00,\n",
       "       3.86896659e+00, 3.22895282e+00, 7.62328864e+00, 7.24154845e+00,\n",
       "       8.50297252e+00, 3.18828771e+00]),\n",
       "        cv=10, normalize=True)"
      ]
     },
     "execution_count": 174,
     "metadata": {},
     "output_type": "execute_result"
    }
   ],
   "source": [
    "ridgecv.fit(x_train,y_train)"
   ]
  },
  {
   "cell_type": "code",
   "execution_count": 175,
   "id": "3b5d82da",
   "metadata": {},
   "outputs": [
    {
     "data": {
      "text/plain": [
       "0.008407392537023162"
      ]
     },
     "execution_count": 175,
     "metadata": {},
     "output_type": "execute_result"
    }
   ],
   "source": [
    "ridgecv.alpha_"
   ]
  },
  {
   "cell_type": "code",
   "execution_count": 176,
   "id": "aca8966b",
   "metadata": {},
   "outputs": [],
   "source": [
    "Ridge_lr=Ridge(alpha=ridgecv.alpha_)"
   ]
  },
  {
   "cell_type": "code",
   "execution_count": 177,
   "id": "2effc41d",
   "metadata": {},
   "outputs": [
    {
     "data": {
      "text/plain": [
       "Ridge(alpha=0.008407392537023162)"
      ]
     },
     "execution_count": 177,
     "metadata": {},
     "output_type": "execute_result"
    }
   ],
   "source": [
    "Ridge_lr.fit(x_train,y_train)"
   ]
  },
  {
   "cell_type": "code",
   "execution_count": 178,
   "id": "7db103ea",
   "metadata": {},
   "outputs": [
    {
     "data": {
      "text/plain": [
       "0.8420041002928649"
      ]
     },
     "execution_count": 178,
     "metadata": {},
     "output_type": "execute_result"
    }
   ],
   "source": [
    "Ridge_lr.score(x_test,y_test)"
   ]
  },
  {
   "cell_type": "code",
   "execution_count": null,
   "id": "35c18094",
   "metadata": {},
   "outputs": [],
   "source": [
    "#ElasticNet"
   ]
  },
  {
   "cell_type": "code",
   "execution_count": 179,
   "id": "695bd939",
   "metadata": {},
   "outputs": [],
   "source": [
    "elastic= ElasticNetCV(alphas=None,cv=10)"
   ]
  },
  {
   "cell_type": "code",
   "execution_count": 180,
   "id": "fb480ac9",
   "metadata": {},
   "outputs": [
    {
     "data": {
      "text/plain": [
       "ElasticNetCV(cv=10)"
      ]
     },
     "execution_count": 180,
     "metadata": {},
     "output_type": "execute_result"
    }
   ],
   "source": [
    "elastic.fit(x_train,y_train)"
   ]
  },
  {
   "cell_type": "code",
   "execution_count": null,
   "id": "9dfb61cd",
   "metadata": {},
   "outputs": [],
   "source": [
    "#elastic formula needs alpha and lambda booth"
   ]
  },
  {
   "cell_type": "code",
   "execution_count": 181,
   "id": "eb1467d6",
   "metadata": {},
   "outputs": [
    {
     "data": {
      "text/plain": [
       "0.001391101145529104"
      ]
     },
     "execution_count": 181,
     "metadata": {},
     "output_type": "execute_result"
    }
   ],
   "source": [
    "elastic.alpha_ #lamba(theory pe  )"
   ]
  },
  {
   "cell_type": "code",
   "execution_count": 182,
   "id": "d1cb764a",
   "metadata": {},
   "outputs": [
    {
     "data": {
      "text/plain": [
       "0.5"
      ]
     },
     "execution_count": 182,
     "metadata": {},
     "output_type": "execute_result"
    }
   ],
   "source": [
    "elastic.l1_ratio_ #effect of l1- lasso-- theory wala alpha"
   ]
  },
  {
   "cell_type": "code",
   "execution_count": 184,
   "id": "802b214a",
   "metadata": {},
   "outputs": [],
   "source": [
    "elastic_lr=ElasticNet(alpha=elastic.alpha_,l1_ratio= elastic.l1_ratio_)"
   ]
  },
  {
   "cell_type": "code",
   "execution_count": 185,
   "id": "30b95b61",
   "metadata": {},
   "outputs": [
    {
     "data": {
      "text/plain": [
       "ElasticNet(alpha=0.001391101145529104)"
      ]
     },
     "execution_count": 185,
     "metadata": {},
     "output_type": "execute_result"
    }
   ],
   "source": [
    "elastic_lr.fit(x_train,y_train)"
   ]
  },
  {
   "cell_type": "code",
   "execution_count": 186,
   "id": "ede20b9f",
   "metadata": {},
   "outputs": [
    {
     "data": {
      "text/plain": [
       "0.8419586493164081"
      ]
     },
     "execution_count": 186,
     "metadata": {},
     "output_type": "execute_result"
    }
   ],
   "source": [
    "elastic_lr.score(x_test,y_test)"
   ]
  },
  {
   "cell_type": "code",
   "execution_count": null,
   "id": "33f05880",
   "metadata": {},
   "outputs": [],
   "source": [
    "#ridge,lass,elasticnet-- gives almost accuarcy--\n",
    "#as its is stable model-- not giving overfitted model\n",
    "#max_iterations zadaa dena is helpful in large datasets, chote datasets mein computation power kharb karne wali baat hai"
   ]
  },
  {
   "cell_type": "code",
   "execution_count": null,
   "id": "a38b62b1",
   "metadata": {},
   "outputs": [],
   "source": [
    "#Assignment\n",
    "#1.Deploy\n",
    "#2. "
   ]
  },
  {
   "cell_type": "code",
   "execution_count": null,
   "id": "5e2e1494",
   "metadata": {},
   "outputs": [],
   "source": []
  },
  {
   "cell_type": "code",
   "execution_count": null,
   "id": "8e434338",
   "metadata": {},
   "outputs": [],
   "source": []
  },
  {
   "cell_type": "code",
   "execution_count": null,
   "id": "720e06cc",
   "metadata": {},
   "outputs": [],
   "source": []
  },
  {
   "cell_type": "code",
   "execution_count": null,
   "id": "282a2991",
   "metadata": {},
   "outputs": [],
   "source": []
  },
  {
   "cell_type": "code",
   "execution_count": null,
   "id": "0ed95fc0",
   "metadata": {},
   "outputs": [],
   "source": []
  },
  {
   "cell_type": "code",
   "execution_count": null,
   "id": "7048a42b",
   "metadata": {},
   "outputs": [],
   "source": []
  },
  {
   "cell_type": "code",
   "execution_count": null,
   "id": "ae0dd49a",
   "metadata": {},
   "outputs": [],
   "source": []
  },
  {
   "cell_type": "code",
   "execution_count": null,
   "id": "99b09566",
   "metadata": {},
   "outputs": [],
   "source": []
  },
  {
   "cell_type": "code",
   "execution_count": null,
   "id": "0d28318c",
   "metadata": {},
   "outputs": [],
   "source": []
  },
  {
   "cell_type": "code",
   "execution_count": null,
   "id": "8f4f7654",
   "metadata": {},
   "outputs": [],
   "source": []
  },
  {
   "cell_type": "code",
   "execution_count": null,
   "id": "108e7a45",
   "metadata": {},
   "outputs": [],
   "source": []
  },
  {
   "cell_type": "code",
   "execution_count": null,
   "id": "ebee842c",
   "metadata": {},
   "outputs": [],
   "source": []
  },
  {
   "cell_type": "code",
   "execution_count": null,
   "id": "0aaca8dd",
   "metadata": {},
   "outputs": [],
   "source": []
  }
 ],
 "metadata": {
  "kernelspec": {
   "display_name": "Python 3",
   "language": "python",
   "name": "python3"
  },
  "language_info": {
   "codemirror_mode": {
    "name": "ipython",
    "version": 3
   },
   "file_extension": ".py",
   "mimetype": "text/x-python",
   "name": "python",
   "nbconvert_exporter": "python",
   "pygments_lexer": "ipython3",
   "version": "3.8.8"
  }
 },
 "nbformat": 4,
 "nbformat_minor": 5
}
